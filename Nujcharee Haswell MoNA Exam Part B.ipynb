{
 "cells": [
  {
   "cell_type": "markdown",
   "metadata": {},
   "source": [
    "## Question 4 - Systolic Blood Pressure"
   ]
  },
  {
   "cell_type": "code",
   "execution_count": 1,
   "metadata": {},
   "outputs": [
    {
     "data": {
      "text/html": [
       "<div>\n",
       "<style scoped>\n",
       "    .dataframe tbody tr th:only-of-type {\n",
       "        vertical-align: middle;\n",
       "    }\n",
       "\n",
       "    .dataframe tbody tr th {\n",
       "        vertical-align: top;\n",
       "    }\n",
       "\n",
       "    .dataframe thead th {\n",
       "        text-align: right;\n",
       "    }\n",
       "</style>\n",
       "<table border=\"1\" class=\"dataframe\">\n",
       "  <thead>\n",
       "    <tr style=\"text-align: right;\">\n",
       "      <th></th>\n",
       "      <th>Y</th>\n",
       "      <th>X1</th>\n",
       "      <th>X2</th>\n",
       "    </tr>\n",
       "  </thead>\n",
       "  <tbody>\n",
       "    <tr>\n",
       "      <th>0</th>\n",
       "      <td>132</td>\n",
       "      <td>52</td>\n",
       "      <td>173</td>\n",
       "    </tr>\n",
       "    <tr>\n",
       "      <th>1</th>\n",
       "      <td>143</td>\n",
       "      <td>59</td>\n",
       "      <td>184</td>\n",
       "    </tr>\n",
       "    <tr>\n",
       "      <th>2</th>\n",
       "      <td>153</td>\n",
       "      <td>67</td>\n",
       "      <td>194</td>\n",
       "    </tr>\n",
       "    <tr>\n",
       "      <th>3</th>\n",
       "      <td>162</td>\n",
       "      <td>73</td>\n",
       "      <td>211</td>\n",
       "    </tr>\n",
       "    <tr>\n",
       "      <th>4</th>\n",
       "      <td>154</td>\n",
       "      <td>64</td>\n",
       "      <td>196</td>\n",
       "    </tr>\n",
       "  </tbody>\n",
       "</table>\n",
       "</div>"
      ],
      "text/plain": [
       "     Y  X1   X2\n",
       "0  132  52  173\n",
       "1  143  59  184\n",
       "2  153  67  194\n",
       "3  162  73  211\n",
       "4  154  64  196"
      ]
     },
     "execution_count": 1,
     "metadata": {},
     "output_type": "execute_result"
    }
   ],
   "source": [
    "import numpy as np\n",
    "import matplotlib.pyplot as plt\n",
    "import pandas as pd\n",
    "from statsmodels.formula.api import ols\n",
    "\n",
    "exam=pd.read_csv('bloodpressure.txt', sep='\\t',delimiter=r\"\\s+\")\n",
    "exam.head()"
   ]
  },
  {
   "cell_type": "markdown",
   "metadata": {},
   "source": [
    "### Fit models"
   ]
  },
  {
   "cell_type": "code",
   "execution_count": 2,
   "metadata": {},
   "outputs": [
    {
     "name": "stdout",
     "output_type": "stream",
     "text": [
      "Output of Model 1\n",
      "==============================================================================\n",
      "                 coef    std err          t      P>|t|      [0.025      0.975]\n",
      "------------------------------------------------------------------------------\n",
      "Intercept     58.7063      5.369     10.934      0.000      47.107      70.306\n",
      "X1             1.4638      0.085     17.279      0.000       1.281       1.647\n",
      "==============================================================================\n",
      "Output of Model 2\n",
      "==============================================================================\n",
      "                 coef    std err          t      P>|t|      [0.025      0.975]\n",
      "------------------------------------------------------------------------------\n",
      "Intercept     31.7311      9.651      3.288      0.006      10.704      52.758\n",
      "X1             0.9054      0.192      4.720      0.000       0.487       1.323\n",
      "X2             0.3185      0.103      3.099      0.009       0.095       0.542\n",
      "==============================================================================\n"
     ]
    },
    {
     "name": "stderr",
     "output_type": "stream",
     "text": [
      "/Users/nhaswell/anaconda3/lib/python3.7/site-packages/scipy/stats/stats.py:1604: UserWarning: kurtosistest only valid for n>=20 ... continuing anyway, n=15\n",
      "  \"anyway, n=%i\" % int(n))\n",
      "/Users/nhaswell/anaconda3/lib/python3.7/site-packages/scipy/stats/stats.py:1604: UserWarning: kurtosistest only valid for n>=20 ... continuing anyway, n=15\n",
      "  \"anyway, n=%i\" % int(n))\n"
     ]
    }
   ],
   "source": [
    "model1=ols('Y~X1',exam).fit()\n",
    "model2=ols('Y~X1+X2',exam).fit()\n",
    "estimate1=model1.summary().tables[1]\n",
    "estimate2=model2.summary().tables[1]\n",
    "print('Output of Model 1')\n",
    "print(estimate1)\n",
    "print('Output of Model 2')\n",
    "print(estimate2)"
   ]
  },
  {
   "cell_type": "code",
   "execution_count": 3,
   "metadata": {},
   "outputs": [
    {
     "name": "stdout",
     "output_type": "stream",
     "text": [
      "                            OLS Regression Results                            \n",
      "==============================================================================\n",
      "Dep. Variable:                      Y   R-squared:                       0.958\n",
      "Model:                            OLS   Adj. R-squared:                  0.955\n",
      "Method:                 Least Squares   F-statistic:                     298.6\n",
      "Date:                Mon, 15 Feb 2021   Prob (F-statistic):           2.38e-10\n",
      "Time:                        22:22:32   Log-Likelihood:                -34.777\n",
      "No. Observations:                  15   AIC:                             73.55\n",
      "Df Residuals:                      13   BIC:                             74.97\n",
      "Df Model:                           1                                         \n",
      "Covariance Type:            nonrobust                                         \n",
      "==============================================================================\n",
      "                 coef    std err          t      P>|t|      [0.025      0.975]\n",
      "------------------------------------------------------------------------------\n",
      "Intercept     58.7063      5.369     10.934      0.000      47.107      70.306\n",
      "X1             1.4638      0.085     17.279      0.000       1.281       1.647\n",
      "==============================================================================\n",
      "Omnibus:                        0.259   Durbin-Watson:                   1.136\n",
      "Prob(Omnibus):                  0.879   Jarque-Bera (JB):                0.406\n",
      "Skew:                           0.227   Prob(JB):                        0.816\n",
      "Kurtosis:                       2.334   Cond. No.                         499.\n",
      "==============================================================================\n",
      "\n",
      "Notes:\n",
      "[1] Standard Errors assume that the covariance matrix of the errors is correctly specified.\n"
     ]
    },
    {
     "name": "stderr",
     "output_type": "stream",
     "text": [
      "/Users/nhaswell/anaconda3/lib/python3.7/site-packages/scipy/stats/stats.py:1604: UserWarning: kurtosistest only valid for n>=20 ... continuing anyway, n=15\n",
      "  \"anyway, n=%i\" % int(n))\n"
     ]
    }
   ],
   "source": [
    "print(model1.summary())"
   ]
  },
  {
   "cell_type": "code",
   "execution_count": 4,
   "metadata": {},
   "outputs": [
    {
     "name": "stdout",
     "output_type": "stream",
     "text": [
      "                            OLS Regression Results                            \n",
      "==============================================================================\n",
      "Dep. Variable:                      Y   R-squared:                       0.977\n",
      "Model:                            OLS   Adj. R-squared:                  0.973\n",
      "Method:                 Least Squares   F-statistic:                     252.9\n",
      "Date:                Mon, 15 Feb 2021   Prob (F-statistic):           1.55e-10\n",
      "Time:                        22:22:35   Log-Likelihood:                -30.368\n",
      "No. Observations:                  15   AIC:                             66.74\n",
      "Df Residuals:                      12   BIC:                             68.86\n",
      "Df Model:                           2                                         \n",
      "Covariance Type:            nonrobust                                         \n",
      "==============================================================================\n",
      "                 coef    std err          t      P>|t|      [0.025      0.975]\n",
      "------------------------------------------------------------------------------\n",
      "Intercept     31.7311      9.651      3.288      0.006      10.704      52.758\n",
      "X1             0.9054      0.192      4.720      0.000       0.487       1.323\n",
      "X2             0.3185      0.103      3.099      0.009       0.095       0.542\n",
      "==============================================================================\n",
      "Omnibus:                        0.989   Durbin-Watson:                   1.844\n",
      "Prob(Omnibus):                  0.610   Jarque-Bera (JB):                0.845\n",
      "Skew:                          -0.354   Prob(JB):                        0.655\n",
      "Kurtosis:                       2.077   Cond. No.                     3.75e+03\n",
      "==============================================================================\n",
      "\n",
      "Notes:\n",
      "[1] Standard Errors assume that the covariance matrix of the errors is correctly specified.\n",
      "[2] The condition number is large, 3.75e+03. This might indicate that there are\n",
      "strong multicollinearity or other numerical problems.\n"
     ]
    }
   ],
   "source": [
    "print(model2.summary())"
   ]
  },
  {
   "cell_type": "markdown",
   "metadata": {},
   "source": [
    "### a) Write down the two fitted models and interpret the regression coefficients\n",
    "\n",
    "Model1: Y = 58.7063 + 1.4638X1 + ϵ\n",
    "\n",
    "Model2: Y = 31.7311 + 0.9054X1 + 0.3185X2 + ϵ"
   ]
  },
  {
   "cell_type": "markdown",
   "metadata": {},
   "source": [
    "### b) Test whether β0=0 in the 2 models at a 0.05 significance level"
   ]
  },
  {
   "cell_type": "code",
   "execution_count": 5,
   "metadata": {},
   "outputs": [
    {
     "name": "stdout",
     "output_type": "stream",
     "text": [
      "Model1 tvalue  10.933615070161668\n",
      "Model1 pvalue  6.327507980217847e-08\n"
     ]
    }
   ],
   "source": [
    "print(\"Model1 tvalue \", model1.tvalues[0])\n",
    "print(\"Model1 pvalue \", model1.pvalues[0])"
   ]
  },
  {
   "cell_type": "markdown",
   "metadata": {},
   "source": [
    "Model 1\n",
    "\n",
    "The hypothesis therefore states:\n",
    "H0: β0=0\n",
    "H1: β0 ≠0\n",
    "\n",
    "β0 in model 1 is statistically significant at α=0.05 therefore we reject the null hypothesis that β0 = 0\n"
   ]
  },
  {
   "cell_type": "code",
   "execution_count": 6,
   "metadata": {},
   "outputs": [
    {
     "name": "stdout",
     "output_type": "stream",
     "text": [
      "Model2 tvalue  3.2880082340088768\n",
      "Model2 pvalue  0.006483197796659898\n"
     ]
    }
   ],
   "source": [
    "print(\"Model2 tvalue \", model2.tvalues[0])\n",
    "print(\"Model2 pvalue \", model2.pvalues[0])\n"
   ]
  },
  {
   "cell_type": "markdown",
   "metadata": {},
   "source": [
    "Model 2\n",
    "\n",
    "The hypothesis therefore states:\n",
    "H0: β0=0\n",
    "H1: β0 ≠0\n",
    "\n",
    "β0 in model 2 is statistically significant at α=0.05 therefore we reject the null hypothesis that β0 = 0\n"
   ]
  },
  {
   "cell_type": "markdown",
   "metadata": {},
   "source": [
    "### c) Check the linearity assumption of Model 1"
   ]
  },
  {
   "cell_type": "markdown",
   "metadata": {},
   "source": [
    "Linearity can be tested by plotting residuals vs. predictions, where residuals are prediction errors."
   ]
  },
  {
   "cell_type": "code",
   "execution_count": 7,
   "metadata": {},
   "outputs": [
    {
     "data": {
      "image/png": "[encoded data removed]",
      "text/plain": [
       "<Figure size 720x720 with 1 Axes>"
      ]
     },
     "metadata": {
      "needs_background": "light"
     },
     "output_type": "display_data"
    }
   ],
   "source": [
    "fig, ax = plt.subplots(figsize=(10,10))\n",
    "_ = ax.scatter(model1.resid, model1.predict())\n",
    "ax.set_ylabel('Residuals')\n",
    "ax.set_xlabel('Predictions')\n",
    "ax.set_title('Model 1 - Linearity check')\n",
    "plt.show()"
   ]
  },
  {
   "cell_type": "markdown",
   "metadata": {},
   "source": [
    "It seems like the corresponding residual plot is reasonably random. "
   ]
  },
  {
   "cell_type": "markdown",
   "metadata": {},
   "source": [
    "### d) Test whether β1=β2=0 in Model 2 at a 0.05 significance level"
   ]
  },
  {
   "cell_type": "code",
   "execution_count": 8,
   "metadata": {},
   "outputs": [
    {
     "data": {
      "text/html": [
       "<div>\n",
       "<style scoped>\n",
       "    .dataframe tbody tr th:only-of-type {\n",
       "        vertical-align: middle;\n",
       "    }\n",
       "\n",
       "    .dataframe tbody tr th {\n",
       "        vertical-align: top;\n",
       "    }\n",
       "\n",
       "    .dataframe thead th {\n",
       "        text-align: right;\n",
       "    }\n",
       "</style>\n",
       "<table border=\"1\" class=\"dataframe\">\n",
       "  <thead>\n",
       "    <tr style=\"text-align: right;\">\n",
       "      <th></th>\n",
       "      <th>df_resid</th>\n",
       "      <th>ssr</th>\n",
       "      <th>df_diff</th>\n",
       "      <th>ss_diff</th>\n",
       "      <th>F</th>\n",
       "      <th>Pr(&gt;F)</th>\n",
       "    </tr>\n",
       "  </thead>\n",
       "  <tbody>\n",
       "    <tr>\n",
       "      <th>0</th>\n",
       "      <td>13.0</td>\n",
       "      <td>90.663076</td>\n",
       "      <td>0.0</td>\n",
       "      <td>NaN</td>\n",
       "      <td>NaN</td>\n",
       "      <td>NaN</td>\n",
       "    </tr>\n",
       "    <tr>\n",
       "      <th>1</th>\n",
       "      <td>12.0</td>\n",
       "      <td>50.364117</td>\n",
       "      <td>1.0</td>\n",
       "      <td>40.298959</td>\n",
       "      <td>9.601826</td>\n",
       "      <td>0.009213</td>\n",
       "    </tr>\n",
       "  </tbody>\n",
       "</table>\n",
       "</div>"
      ],
      "text/plain": [
       "   df_resid        ssr  df_diff    ss_diff         F    Pr(>F)\n",
       "0      13.0  90.663076      0.0        NaN       NaN       NaN\n",
       "1      12.0  50.364117      1.0  40.298959  9.601826  0.009213"
      ]
     },
     "execution_count": 8,
     "metadata": {},
     "output_type": "execute_result"
    }
   ],
   "source": [
    "from statsmodels.stats.anova import anova_lm\n",
    "anova_lm(model1,model2)"
   ]
  },
  {
   "cell_type": "markdown",
   "metadata": {},
   "source": [
    "We can reject the hypothesis that β1=β2=0 in Model 2 as there is significant evidence at pvalue 0.009213."
   ]
  },
  {
   "cell_type": "markdown",
   "metadata": {},
   "source": [
    "### e) Which of the two models would you use to predict the systolic blood pressure for an individual who is 75 years old and 170 pounds weight? Why? What is your prediction in this case?"
   ]
  },
  {
   "cell_type": "code",
   "execution_count": 10,
   "metadata": {},
   "outputs": [],
   "source": [
    "predict = model1.predict(pd.DataFrame({'X1' : [75], 'X2' : [170]}))[0]\n"
   ]
  },
  {
   "cell_type": "markdown",
   "metadata": {},
   "source": [
    "Model 2 attempts to incorporate both X1 (Age) and X2 (Weight) giving more information that might be useful in predicting the systolic blood pressure. \n",
    "\n",
    "Upon fitting the model, we see that the coefficients for both X1 and X2 are significant at the 0.05 level, \n",
    "suggesting that it is helpful to know both X1 and X2 when trying to predict level of systolic blood pressure (Y). \n",
    "\n",
    "Also, model 2 has higher r-squared (0.9768220606621365) which is better than model 1 (R^2=0.9582761813724345)."
   ]
  },
  {
   "cell_type": "code",
   "execution_count": 11,
   "metadata": {},
   "outputs": [
    {
     "name": "stdout",
     "output_type": "stream",
     "text": [
      "Using model 2, we predict the systolic blood pressure for an individual who is 75 years old and 170 pounds weight as : 168.5\n"
     ]
    }
   ],
   "source": [
    "print(\"Using model 2, we predict the systolic blood pressure for an individual who is 75 years old and 170 pounds weight as : {0:.1f}\".format(predict))"
   ]
  },
  {
   "cell_type": "code",
   "execution_count": 12,
   "metadata": {},
   "outputs": [
    {
     "name": "stdout",
     "output_type": "stream",
     "text": [
      "R squred in model1: 0.9582761813724345\n",
      "R squred in model2: 0.9768220606621365\n"
     ]
    }
   ],
   "source": [
    "print('R squred in model1:', model1.rsquared)\n",
    "print('R squred in model2:', model2.rsquared)"
   ]
  },
  {
   "cell_type": "markdown",
   "metadata": {},
   "source": [
    "## Question 5 - Admission"
   ]
  },
  {
   "cell_type": "code",
   "execution_count": 13,
   "metadata": {},
   "outputs": [
    {
     "data": {
      "text/html": [
       "<div>\n",
       "<style scoped>\n",
       "    .dataframe tbody tr th:only-of-type {\n",
       "        vertical-align: middle;\n",
       "    }\n",
       "\n",
       "    .dataframe tbody tr th {\n",
       "        vertical-align: top;\n",
       "    }\n",
       "\n",
       "    .dataframe thead th {\n",
       "        text-align: right;\n",
       "    }\n",
       "</style>\n",
       "<table border=\"1\" class=\"dataframe\">\n",
       "  <thead>\n",
       "    <tr style=\"text-align: right;\">\n",
       "      <th></th>\n",
       "      <th>admit</th>\n",
       "      <th>gre</th>\n",
       "      <th>gpa</th>\n",
       "    </tr>\n",
       "  </thead>\n",
       "  <tbody>\n",
       "    <tr>\n",
       "      <th>0</th>\n",
       "      <td>0</td>\n",
       "      <td>380</td>\n",
       "      <td>3.61</td>\n",
       "    </tr>\n",
       "    <tr>\n",
       "      <th>1</th>\n",
       "      <td>1</td>\n",
       "      <td>660</td>\n",
       "      <td>3.67</td>\n",
       "    </tr>\n",
       "    <tr>\n",
       "      <th>2</th>\n",
       "      <td>1</td>\n",
       "      <td>800</td>\n",
       "      <td>4.00</td>\n",
       "    </tr>\n",
       "    <tr>\n",
       "      <th>3</th>\n",
       "      <td>1</td>\n",
       "      <td>640</td>\n",
       "      <td>3.19</td>\n",
       "    </tr>\n",
       "    <tr>\n",
       "      <th>4</th>\n",
       "      <td>0</td>\n",
       "      <td>520</td>\n",
       "      <td>2.93</td>\n",
       "    </tr>\n",
       "  </tbody>\n",
       "</table>\n",
       "</div>"
      ],
      "text/plain": [
       "   admit  gre   gpa\n",
       "0      0  380  3.61\n",
       "1      1  660  3.67\n",
       "2      1  800  4.00\n",
       "3      1  640  3.19\n",
       "4      0  520  2.93"
      ]
     },
     "execution_count": 13,
     "metadata": {},
     "output_type": "execute_result"
    }
   ],
   "source": [
    "admission=pd.read_csv('admission.txt', sep='\\t',delimiter=r\"\\s+\")\n",
    "admission.head()"
   ]
  },
  {
   "cell_type": "markdown",
   "metadata": {},
   "source": [
    "### (a)\tFit a logistic regression connecting the probability of admission with GRE and GPA. Interpret the coefficients. "
   ]
  },
  {
   "cell_type": "code",
   "execution_count": 14,
   "metadata": {},
   "outputs": [
    {
     "name": "stdout",
     "output_type": "stream",
     "text": [
      "Optimization terminated successfully.\n",
      "         Current function value: 0.312709\n",
      "         Iterations 8\n",
      "                           Logit Regression Results                           \n",
      "==============================================================================\n",
      "Dep. Variable:                  admit   No. Observations:                   20\n",
      "Model:                          Logit   Df Residuals:                       17\n",
      "Method:                           MLE   Df Model:                            2\n",
      "Date:                Mon, 15 Feb 2021   Pseudo R-squ.:                  0.5456\n",
      "Time:                        22:26:15   Log-Likelihood:                -6.2542\n",
      "converged:                       True   LL-Null:                       -13.763\n",
      "Covariance Type:            nonrobust   LLR p-value:                 0.0005483\n",
      "==============================================================================\n",
      "                 coef    std err          z      P>|z|      [0.025      0.975]\n",
      "------------------------------------------------------------------------------\n",
      "Intercept    -28.6420     13.462     -2.128      0.033     -55.027      -2.257\n",
      "gre            0.0206      0.011      1.951      0.051   -8.91e-05       0.041\n",
      "gpa            4.8945      2.653      1.845      0.065      -0.304      10.093\n",
      "==============================================================================\n"
     ]
    }
   ],
   "source": [
    "import statsmodels.formula.api as smf\n",
    "\n",
    "logit = smf.logit('admit~gre+gpa',admission).fit()\n",
    "print(logit.summary())\n",
    "# Plot the fit\n",
    "x = np.arange(2, 850)\n",
    "alpha = logit.params[0]\n",
    "beta = logit.params[1]\n",
    "y = np.exp(np.dot(beta, x) + alpha)/ (1.0 + np.exp(np.dot(beta, x) + alpha))\n"
   ]
  },
  {
   "cell_type": "markdown",
   "metadata": {},
   "source": [
    "### (b)\tCalculate fitted probabilities for each observation under the logistic fitting. "
   ]
  },
  {
   "cell_type": "code",
   "execution_count": 15,
   "metadata": {},
   "outputs": [
    {
     "data": {
      "text/html": [
       "<div>\n",
       "<style scoped>\n",
       "    .dataframe tbody tr th:only-of-type {\n",
       "        vertical-align: middle;\n",
       "    }\n",
       "\n",
       "    .dataframe tbody tr th {\n",
       "        vertical-align: top;\n",
       "    }\n",
       "\n",
       "    .dataframe thead th {\n",
       "        text-align: right;\n",
       "    }\n",
       "</style>\n",
       "<table border=\"1\" class=\"dataframe\">\n",
       "  <thead>\n",
       "    <tr style=\"text-align: right;\">\n",
       "      <th></th>\n",
       "      <th>admit</th>\n",
       "      <th>gre</th>\n",
       "      <th>gpa</th>\n",
       "      <th>prob</th>\n",
       "    </tr>\n",
       "  </thead>\n",
       "  <tbody>\n",
       "    <tr>\n",
       "      <th>0</th>\n",
       "      <td>0</td>\n",
       "      <td>380</td>\n",
       "      <td>3.61</td>\n",
       "      <td>0.040602</td>\n",
       "    </tr>\n",
       "    <tr>\n",
       "      <th>1</th>\n",
       "      <td>1</td>\n",
       "      <td>660</td>\n",
       "      <td>3.67</td>\n",
       "      <td>0.947165</td>\n",
       "    </tr>\n",
       "    <tr>\n",
       "      <th>2</th>\n",
       "      <td>1</td>\n",
       "      <td>800</td>\n",
       "      <td>4.00</td>\n",
       "      <td>0.999376</td>\n",
       "    </tr>\n",
       "    <tr>\n",
       "      <th>3</th>\n",
       "      <td>1</td>\n",
       "      <td>640</td>\n",
       "      <td>3.19</td>\n",
       "      <td>0.531426</td>\n",
       "    </tr>\n",
       "    <tr>\n",
       "      <th>4</th>\n",
       "      <td>0</td>\n",
       "      <td>520</td>\n",
       "      <td>2.93</td>\n",
       "      <td>0.026258</td>\n",
       "    </tr>\n",
       "    <tr>\n",
       "      <th>5</th>\n",
       "      <td>1</td>\n",
       "      <td>760</td>\n",
       "      <td>3.00</td>\n",
       "      <td>0.840559</td>\n",
       "    </tr>\n",
       "    <tr>\n",
       "      <th>6</th>\n",
       "      <td>1</td>\n",
       "      <td>560</td>\n",
       "      <td>3.58</td>\n",
       "      <td>0.596378</td>\n",
       "    </tr>\n",
       "    <tr>\n",
       "      <th>7</th>\n",
       "      <td>0</td>\n",
       "      <td>400</td>\n",
       "      <td>3.08</td>\n",
       "      <td>0.004747</td>\n",
       "    </tr>\n",
       "    <tr>\n",
       "      <th>8</th>\n",
       "      <td>1</td>\n",
       "      <td>540</td>\n",
       "      <td>3.39</td>\n",
       "      <td>0.278757</td>\n",
       "    </tr>\n",
       "    <tr>\n",
       "      <th>9</th>\n",
       "      <td>0</td>\n",
       "      <td>520</td>\n",
       "      <td>3.92</td>\n",
       "      <td>0.774231</td>\n",
       "    </tr>\n",
       "    <tr>\n",
       "      <th>10</th>\n",
       "      <td>0</td>\n",
       "      <td>600</td>\n",
       "      <td>3.00</td>\n",
       "      <td>0.164346</td>\n",
       "    </tr>\n",
       "    <tr>\n",
       "      <th>11</th>\n",
       "      <td>0</td>\n",
       "      <td>440</td>\n",
       "      <td>3.22</td>\n",
       "      <td>0.021081</td>\n",
       "    </tr>\n",
       "    <tr>\n",
       "      <th>12</th>\n",
       "      <td>1</td>\n",
       "      <td>760</td>\n",
       "      <td>4.00</td>\n",
       "      <td>0.998582</td>\n",
       "    </tr>\n",
       "    <tr>\n",
       "      <th>13</th>\n",
       "      <td>0</td>\n",
       "      <td>700</td>\n",
       "      <td>3.08</td>\n",
       "      <td>0.694388</td>\n",
       "    </tr>\n",
       "    <tr>\n",
       "      <th>14</th>\n",
       "      <td>1</td>\n",
       "      <td>700</td>\n",
       "      <td>4.00</td>\n",
       "      <td>0.995149</td>\n",
       "    </tr>\n",
       "    <tr>\n",
       "      <th>15</th>\n",
       "      <td>0</td>\n",
       "      <td>480</td>\n",
       "      <td>3.44</td>\n",
       "      <td>0.125741</td>\n",
       "    </tr>\n",
       "    <tr>\n",
       "      <th>16</th>\n",
       "      <td>0</td>\n",
       "      <td>580</td>\n",
       "      <td>3.07</td>\n",
       "      <td>0.155158</td>\n",
       "    </tr>\n",
       "    <tr>\n",
       "      <th>17</th>\n",
       "      <td>0</td>\n",
       "      <td>360</td>\n",
       "      <td>2.56</td>\n",
       "      <td>0.000164</td>\n",
       "    </tr>\n",
       "    <tr>\n",
       "      <th>18</th>\n",
       "      <td>0</td>\n",
       "      <td>600</td>\n",
       "      <td>2.75</td>\n",
       "      <td>0.054689</td>\n",
       "    </tr>\n",
       "    <tr>\n",
       "      <th>19</th>\n",
       "      <td>1</td>\n",
       "      <td>540</td>\n",
       "      <td>3.81</td>\n",
       "      <td>0.751204</td>\n",
       "    </tr>\n",
       "  </tbody>\n",
       "</table>\n",
       "</div>"
      ],
      "text/plain": [
       "    admit  gre   gpa      prob\n",
       "0       0  380  3.61  0.040602\n",
       "1       1  660  3.67  0.947165\n",
       "2       1  800  4.00  0.999376\n",
       "3       1  640  3.19  0.531426\n",
       "4       0  520  2.93  0.026258\n",
       "5       1  760  3.00  0.840559\n",
       "6       1  560  3.58  0.596378\n",
       "7       0  400  3.08  0.004747\n",
       "8       1  540  3.39  0.278757\n",
       "9       0  520  3.92  0.774231\n",
       "10      0  600  3.00  0.164346\n",
       "11      0  440  3.22  0.021081\n",
       "12      1  760  4.00  0.998582\n",
       "13      0  700  3.08  0.694388\n",
       "14      1  700  4.00  0.995149\n",
       "15      0  480  3.44  0.125741\n",
       "16      0  580  3.07  0.155158\n",
       "17      0  360  2.56  0.000164\n",
       "18      0  600  2.75  0.054689\n",
       "19      1  540  3.81  0.751204"
      ]
     },
     "execution_count": 15,
     "metadata": {},
     "output_type": "execute_result"
    }
   ],
   "source": [
    "pred = logit.predict()\n",
    "admission['prob'] = pred\n",
    "admission"
   ]
  },
  {
   "cell_type": "markdown",
   "metadata": {},
   "source": [
    "### (c)\tIf the fitted probability for an observation is greater than 0.5, we will assign it to the group which has Admit = 1; and if less than 0.5 we will classify it to the group which has Admit = 0. Find out the classification for each observation."
   ]
  },
  {
   "cell_type": "code",
   "execution_count": 16,
   "metadata": {},
   "outputs": [
    {
     "data": {
      "text/html": [
       "<div>\n",
       "<style scoped>\n",
       "    .dataframe tbody tr th:only-of-type {\n",
       "        vertical-align: middle;\n",
       "    }\n",
       "\n",
       "    .dataframe tbody tr th {\n",
       "        vertical-align: top;\n",
       "    }\n",
       "\n",
       "    .dataframe thead th {\n",
       "        text-align: right;\n",
       "    }\n",
       "</style>\n",
       "<table border=\"1\" class=\"dataframe\">\n",
       "  <thead>\n",
       "    <tr style=\"text-align: right;\">\n",
       "      <th></th>\n",
       "      <th>admit</th>\n",
       "      <th>gre</th>\n",
       "      <th>gpa</th>\n",
       "      <th>prob</th>\n",
       "      <th>pred</th>\n",
       "    </tr>\n",
       "  </thead>\n",
       "  <tbody>\n",
       "    <tr>\n",
       "      <th>0</th>\n",
       "      <td>0</td>\n",
       "      <td>380</td>\n",
       "      <td>3.61</td>\n",
       "      <td>0.040602</td>\n",
       "      <td>0</td>\n",
       "    </tr>\n",
       "    <tr>\n",
       "      <th>1</th>\n",
       "      <td>1</td>\n",
       "      <td>660</td>\n",
       "      <td>3.67</td>\n",
       "      <td>0.947165</td>\n",
       "      <td>1</td>\n",
       "    </tr>\n",
       "    <tr>\n",
       "      <th>2</th>\n",
       "      <td>1</td>\n",
       "      <td>800</td>\n",
       "      <td>4.00</td>\n",
       "      <td>0.999376</td>\n",
       "      <td>1</td>\n",
       "    </tr>\n",
       "    <tr>\n",
       "      <th>3</th>\n",
       "      <td>1</td>\n",
       "      <td>640</td>\n",
       "      <td>3.19</td>\n",
       "      <td>0.531426</td>\n",
       "      <td>1</td>\n",
       "    </tr>\n",
       "    <tr>\n",
       "      <th>4</th>\n",
       "      <td>0</td>\n",
       "      <td>520</td>\n",
       "      <td>2.93</td>\n",
       "      <td>0.026258</td>\n",
       "      <td>0</td>\n",
       "    </tr>\n",
       "    <tr>\n",
       "      <th>5</th>\n",
       "      <td>1</td>\n",
       "      <td>760</td>\n",
       "      <td>3.00</td>\n",
       "      <td>0.840559</td>\n",
       "      <td>1</td>\n",
       "    </tr>\n",
       "    <tr>\n",
       "      <th>6</th>\n",
       "      <td>1</td>\n",
       "      <td>560</td>\n",
       "      <td>3.58</td>\n",
       "      <td>0.596378</td>\n",
       "      <td>1</td>\n",
       "    </tr>\n",
       "    <tr>\n",
       "      <th>7</th>\n",
       "      <td>0</td>\n",
       "      <td>400</td>\n",
       "      <td>3.08</td>\n",
       "      <td>0.004747</td>\n",
       "      <td>0</td>\n",
       "    </tr>\n",
       "    <tr>\n",
       "      <th>8</th>\n",
       "      <td>1</td>\n",
       "      <td>540</td>\n",
       "      <td>3.39</td>\n",
       "      <td>0.278757</td>\n",
       "      <td>0</td>\n",
       "    </tr>\n",
       "    <tr>\n",
       "      <th>9</th>\n",
       "      <td>0</td>\n",
       "      <td>520</td>\n",
       "      <td>3.92</td>\n",
       "      <td>0.774231</td>\n",
       "      <td>1</td>\n",
       "    </tr>\n",
       "    <tr>\n",
       "      <th>10</th>\n",
       "      <td>0</td>\n",
       "      <td>600</td>\n",
       "      <td>3.00</td>\n",
       "      <td>0.164346</td>\n",
       "      <td>0</td>\n",
       "    </tr>\n",
       "    <tr>\n",
       "      <th>11</th>\n",
       "      <td>0</td>\n",
       "      <td>440</td>\n",
       "      <td>3.22</td>\n",
       "      <td>0.021081</td>\n",
       "      <td>0</td>\n",
       "    </tr>\n",
       "    <tr>\n",
       "      <th>12</th>\n",
       "      <td>1</td>\n",
       "      <td>760</td>\n",
       "      <td>4.00</td>\n",
       "      <td>0.998582</td>\n",
       "      <td>1</td>\n",
       "    </tr>\n",
       "    <tr>\n",
       "      <th>13</th>\n",
       "      <td>0</td>\n",
       "      <td>700</td>\n",
       "      <td>3.08</td>\n",
       "      <td>0.694388</td>\n",
       "      <td>1</td>\n",
       "    </tr>\n",
       "    <tr>\n",
       "      <th>14</th>\n",
       "      <td>1</td>\n",
       "      <td>700</td>\n",
       "      <td>4.00</td>\n",
       "      <td>0.995149</td>\n",
       "      <td>1</td>\n",
       "    </tr>\n",
       "    <tr>\n",
       "      <th>15</th>\n",
       "      <td>0</td>\n",
       "      <td>480</td>\n",
       "      <td>3.44</td>\n",
       "      <td>0.125741</td>\n",
       "      <td>0</td>\n",
       "    </tr>\n",
       "    <tr>\n",
       "      <th>16</th>\n",
       "      <td>0</td>\n",
       "      <td>580</td>\n",
       "      <td>3.07</td>\n",
       "      <td>0.155158</td>\n",
       "      <td>0</td>\n",
       "    </tr>\n",
       "    <tr>\n",
       "      <th>17</th>\n",
       "      <td>0</td>\n",
       "      <td>360</td>\n",
       "      <td>2.56</td>\n",
       "      <td>0.000164</td>\n",
       "      <td>0</td>\n",
       "    </tr>\n",
       "    <tr>\n",
       "      <th>18</th>\n",
       "      <td>0</td>\n",
       "      <td>600</td>\n",
       "      <td>2.75</td>\n",
       "      <td>0.054689</td>\n",
       "      <td>0</td>\n",
       "    </tr>\n",
       "    <tr>\n",
       "      <th>19</th>\n",
       "      <td>1</td>\n",
       "      <td>540</td>\n",
       "      <td>3.81</td>\n",
       "      <td>0.751204</td>\n",
       "      <td>1</td>\n",
       "    </tr>\n",
       "  </tbody>\n",
       "</table>\n",
       "</div>"
      ],
      "text/plain": [
       "    admit  gre   gpa      prob  pred\n",
       "0       0  380  3.61  0.040602     0\n",
       "1       1  660  3.67  0.947165     1\n",
       "2       1  800  4.00  0.999376     1\n",
       "3       1  640  3.19  0.531426     1\n",
       "4       0  520  2.93  0.026258     0\n",
       "5       1  760  3.00  0.840559     1\n",
       "6       1  560  3.58  0.596378     1\n",
       "7       0  400  3.08  0.004747     0\n",
       "8       1  540  3.39  0.278757     0\n",
       "9       0  520  3.92  0.774231     1\n",
       "10      0  600  3.00  0.164346     0\n",
       "11      0  440  3.22  0.021081     0\n",
       "12      1  760  4.00  0.998582     1\n",
       "13      0  700  3.08  0.694388     1\n",
       "14      1  700  4.00  0.995149     1\n",
       "15      0  480  3.44  0.125741     0\n",
       "16      0  580  3.07  0.155158     0\n",
       "17      0  360  2.56  0.000164     0\n",
       "18      0  600  2.75  0.054689     0\n",
       "19      1  540  3.81  0.751204     1"
      ]
     },
     "execution_count": 16,
     "metadata": {},
     "output_type": "execute_result"
    }
   ],
   "source": [
    "admission['pred']=[ 0 if x < 0.5 else 1 for x in pred]\n",
    "admission"
   ]
  },
  {
   "cell_type": "markdown",
   "metadata": {},
   "source": [
    "### (d)\tDetermine what proportion of the data is classified correctly when using such a logistic regression. "
   ]
  },
  {
   "cell_type": "code",
   "execution_count": 17,
   "metadata": {},
   "outputs": [
    {
     "name": "stdout",
     "output_type": "stream",
     "text": [
      "The overall correct classification is 85%\n"
     ]
    }
   ],
   "source": [
    "accuracy = 1-abs(admission['admit']-admission['pred']).sum()/logit.nobs\n",
    "print('The overall correct classification is {0:.0f}%'.format(accuracy*100))\n",
    "#print(accuracy*100)"
   ]
  },
  {
   "cell_type": "markdown",
   "metadata": {},
   "source": [
    "### (e)\tIs the logistic regression a good fitting?\n",
    "\n"
   ]
  },
  {
   "cell_type": "markdown",
   "metadata": {},
   "source": [
    "Yes - it is relative good fitting as it correctly classified the dataset by 85%."
   ]
  },
  {
   "cell_type": "markdown",
   "metadata": {},
   "source": [
    "## Question 6 - Blood Pressure Research\n"
   ]
  },
  {
   "cell_type": "code",
   "execution_count": 18,
   "metadata": {},
   "outputs": [
    {
     "name": "stdout",
     "output_type": "stream",
     "text": [
      "SS between: 160.13333333333338\n",
      "SS within  104.79999999999994\n",
      "SS total  264.93333333333334\n",
      "MS between  80.06666666666669\n",
      "MS within  8.733333333333329\n",
      "MS total  18.923809523809524\n",
      "F between  9.167938931297718\n",
      "p value between  0.0038313168847996064\n",
      "DF between  2\n",
      "DF within  12\n",
      "DF total  14\n",
      "Critical value  3.8852938346523933\n"
     ]
    }
   ],
   "source": [
    "#blood = model1.predict(pd.DataFrame({'med' : [75], 'X2' : [170]}))[0]\n",
    "\n",
    "\n",
    "med = [9,10,12,13,15]\n",
    "exercise = [0,2,3,6,8]\n",
    "diet = [4,5,8,9,12]\n",
    "\n",
    "\n",
    "SS_w1 = sum(i*i for i in med)  - ((sum(i for i in med)**2) / len(med))\n",
    "SS_w2 = sum(i*i for i in exercise)  - ((sum(i for i in exercise)**2) / \n",
    "                                       len(exercise))\n",
    "SS_w3 = sum(i*i for i in diet)  - ((sum(i for i in diet)**2) / len(diet))\n",
    "\n",
    "SS_err = SS_w1 + SS_w2 + SS_w3\n",
    "\n",
    "n = len(med) + len(exercise) + len(diet) # number of observations\n",
    "k = 3 # number of groups\n",
    "dfr = k-1\n",
    "dfe = n-k\n",
    "dft = dfr + dfe\n",
    "\n",
    "# Sum squares between treatments:\n",
    "# Mean of 3 groups: (𝑥_1 ) ̅=; (𝑥_2 ) ̅=; (𝑥_3 ) ̅=\n",
    "med_xbar = sum(med) / len(med)\n",
    "exercise_xbar = sum(exercise) / len(exercise)\n",
    "diet_xbar = sum(diet) / len(diet)\n",
    "\n",
    "# Mean of all patients/grand mean: 𝑥 ̅=\n",
    "all_groups = (sum(med) + sum(exercise) + sum(diet)) / (len(med) + len(exercise) \n",
    "                                                          + len(diet))\n",
    "#print(\"Mean of all patients \", all_groups)\n",
    "\n",
    "#Sum squares of group 1 from the grand mean: \n",
    "# 𝑺𝑺_𝒃𝟏=𝟖×((𝑥_1 ) ̅−𝒙 ̅ )^𝟐=;\n",
    "SS_b1 = len(med) * (med_xbar-all_groups)**2\n",
    "\n",
    "\n",
    "#𝑺𝑺_𝒃𝟐=𝟗×((𝑥_2 ) ̅−𝒙 ̅ )^𝟐=; \n",
    "SS_b2 = len(exercise) * (exercise_xbar-all_groups)**2\n",
    "\n",
    "# 𝑺𝑺_𝒃𝟑=𝟓×((𝑥_3 ) ̅−𝒙 ̅ )^𝟐=;\n",
    "SS_b3 = len(diet) * (diet_xbar-all_groups)**2\n",
    "\n",
    "#Total sum squares between treatments: 𝑺𝑺_𝑻𝒓𝒆𝒂𝒕𝒎𝒆𝒏𝒕𝒔=𝑺𝑺_𝒃𝟏+𝑺𝑺_𝒃𝟐+𝑺𝑺_𝒃𝟑=\n",
    "SS_Treatments = SS_b1 + SS_b2 + SS_b3\n",
    "\n",
    "print(\"SS between:\", SS_Treatments)\n",
    "print(\"SS within \", SS_err)\n",
    "print(\"SS total \", SS_Treatments + SS_err)\n",
    "\n",
    "ms_treatments = SS_Treatments/2\n",
    "ms_err = SS_err/12\n",
    "print(\"MS between \", ms_treatments)\n",
    "print(\"MS within \", ms_err)\n",
    "print(\"MS total \", (SS_Treatments + SS_err) / (dfr+dfe))\n",
    "\n",
    "\n",
    "\n",
    "F = (SS_Treatments/2) / (SS_err/12)\n",
    "print(\"F between \", F)\n",
    "\n",
    "from scipy import stats\n",
    "p = stats.f.sf(F, 2, 12)\n",
    "print(\"p value between \", p)\n",
    "\n",
    "print(\"DF between \", dfr)\n",
    "print(\"DF within \", dfe)\n",
    "print(\"DF total \", dfr+dfe)\n",
    "\n",
    "print(\"Critical value \", stats.f.ppf(q=1-.05, dfn=dfr, dfd=dfe))"
   ]
  },
  {
   "cell_type": "markdown",
   "metadata": {},
   "source": [
    "### (a)\tIs there a difference in the techniques used to lower blood pressure, at a significance level α=0.05?"
   ]
  },
  {
   "cell_type": "markdown",
   "metadata": {},
   "source": [
    "Critical value: 3.8853\n",
    "\n",
    "Reject the H0. The test statistic is in the rejection region.\n",
    "\n",
    "Therefore, there is enough evidence that there is a difference in the techniques used to lower blood pressure."
   ]
  },
  {
   "cell_type": "markdown",
   "metadata": {},
   "source": [
    "### b) Perform pairwise tests on the 3 groups to determine whether difference lies between each pair at a significance level α=0.05."
   ]
  },
  {
   "cell_type": "code",
   "execution_count": 19,
   "metadata": {},
   "outputs": [
    {
     "name": "stdout",
     "output_type": "stream",
     "text": [
      "4.486177232736354\n",
      "0.0020390437812708626\n",
      "reject H0\n"
     ]
    }
   ],
   "source": [
    "# Medication Group vs Exercise Group\n",
    "\n",
    "t_statistic, pVal = stats.ttest_ind(med, exercise)\n",
    "pVal\n",
    "print(t_statistic)\n",
    "print(pVal)\n",
    "if pVal < 0.05:\n",
    "    print(\"reject H0\")\n",
    "else:\n",
    "    print(\"accept H0\")"
   ]
  },
  {
   "cell_type": "code",
   "execution_count": 20,
   "metadata": {},
   "outputs": [
    {
     "name": "stdout",
     "output_type": "stream",
     "text": [
      "2.34787137637478\n",
      "0.046836629550836055\n",
      "reject H0\n"
     ]
    }
   ],
   "source": [
    "# Medication Group vs Diet Group\n",
    "t_statistic, pVal = stats.ttest_ind(med, diet)\n",
    "pVal\n",
    "print(t_statistic)\n",
    "print(pVal)\n",
    "if pVal < 0.05:\n",
    "    print(\"reject H0\")\n",
    "else:\n",
    "    print(\"accept H0\")"
   ]
  },
  {
   "cell_type": "code",
   "execution_count": 21,
   "metadata": {},
   "outputs": [
    {
     "name": "stdout",
     "output_type": "stream",
     "text": [
      "-1.87668623363422\n",
      "0.0974006409682124\n",
      "accept H0\n"
     ]
    }
   ],
   "source": [
    "# Exercise Group vs Diet Group\n",
    "t_statistic, pVal = stats.ttest_ind(exercise, diet)\n",
    "pVal\n",
    "print(t_statistic)\n",
    "print(pVal)\n",
    "if pVal < 0.05:\n",
    "    print(\"reject H0\")\n",
    "else:\n",
    "    print(\"accept H0\")"
   ]
  },
  {
   "cell_type": "markdown",
   "metadata": {},
   "source": [
    "### c) Comments on your answer to (a) and (b).\n"
   ]
  },
  {
   "cell_type": "markdown",
   "metadata": {},
   "source": [
    "H0:μ1=μ2,ts=4.486177232736354  Reject  H0\n",
    "\n",
    "H0:μ1=μ3,ts=2.34787137637478   Reject  H0\n",
    "\n",
    "H0:μ2=μ3,ts=-1.87668623363422  Failed to reject  H0\n",
    "\n",
    "There is a significant difference in medication group and exercise group, medication group and diet group.\n",
    "\n",
    "However there is not enough evidence to suggest that there is a difference exercise group and diet group."
   ]
  }
 ],
 "metadata": {
  "kernelspec": {
   "display_name": "Python 3",
   "language": "python",
   "name": "python3"
  },
  "language_info": {
   "codemirror_mode": {
    "name": "ipython",
    "version": 3
   },
   "file_extension": ".py",
   "mimetype": "text/x-python",
   "name": "python",
   "nbconvert_exporter": "python",
   "pygments_lexer": "ipython3",
   "version": "3.7.3"
  }
 },
 "nbformat": 4,
 "nbformat_minor": 4
}
