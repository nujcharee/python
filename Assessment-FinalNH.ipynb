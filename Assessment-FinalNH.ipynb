{
 "cells": [
  {
   "cell_type": "markdown",
   "metadata": {},
   "source": [
    "# Evolutionary algorithms in optimisation"
   ]
  },
  {
   "cell_type": "code",
   "execution_count": 1,
   "metadata": {},
   "outputs": [],
   "source": [
    "# Load libraries required\n",
    "\n",
    "import numpy as np\n",
    "import random "
   ]
  },
  {
   "cell_type": "code",
   "execution_count": 1,
   "metadata": {},
   "outputs": [],
   "source": [
    "\"\"\"Calculate distance between two genomes\n",
    "\n",
    "    Args:\n",
    "      word1: master genome\n",
    "      word2: mutated genome\n",
    "\n",
    "    Returns:\n",
    "      A number that calculates distance between two genome, minimum 0, maximum 21\n",
    "\n",
    "\"\"\"\n",
    "\n",
    "# for each letter in the first word, \n",
    "# if the letter is not the same as that letter in the second word, \n",
    "# then increase the distance by 1\n",
    "\n",
    "\n",
    "def distWord(word1, word2):\n",
    "    distance = 0\n",
    "    for i in range(0, len(word1)):\n",
    "        if word1[i] != word2[i]:\n",
    "            distance += 1\n",
    "    return distance\n",
    "\n"
   ]
  },
  {
   "cell_type": "code",
   "execution_count": 7,
   "metadata": {},
   "outputs": [
    {
     "name": "stdout",
     "output_type": "stream",
     "text": [
      "runt\n"
     ]
    },
    {
     "ename": "TypeError",
     "evalue": "can only concatenate str (not \"int\") to str",
     "output_type": "error",
     "traceback": [
      "\u001b[0;31m---------------------------------------------------------------------------\u001b[0m",
      "\u001b[0;31mTypeError\u001b[0m                                 Traceback (most recent call last)",
      "\u001b[0;32m<ipython-input-7-04fab440d066>\u001b[0m in \u001b[0;36m<module>\u001b[0;34m\u001b[0m\n\u001b[1;32m      3\u001b[0m \u001b[0;32mfor\u001b[0m \u001b[0mi\u001b[0m \u001b[0;32min\u001b[0m \u001b[0mv\u001b[0m\u001b[0;34m:\u001b[0m\u001b[0;34m\u001b[0m\u001b[0;34m\u001b[0m\u001b[0m\n\u001b[1;32m      4\u001b[0m     \u001b[0mprint\u001b[0m\u001b[0;34m(\u001b[0m\u001b[0mi\u001b[0m\u001b[0;34m)\u001b[0m\u001b[0;34m\u001b[0m\u001b[0;34m\u001b[0m\u001b[0m\n\u001b[0;32m----> 5\u001b[0;31m     \u001b[0mprint\u001b[0m\u001b[0;34m(\u001b[0m\u001b[0mi\u001b[0m\u001b[0;34m+\u001b[0m\u001b[0;36m1\u001b[0m\u001b[0;34m)\u001b[0m\u001b[0;34m\u001b[0m\u001b[0;34m\u001b[0m\u001b[0m\n\u001b[0m",
      "\u001b[0;31mTypeError\u001b[0m: can only concatenate str (not \"int\") to str"
     ]
    }
   ],
   "source": [
    "v = ['runt', 'hunt', 'hung', 'bind', 'sind', 'rung', 'band', 'sand']\n",
    "\n",
    "for i in v:\n",
    "    print(i)\n",
    "    print(i+1)"
   ]
  },
  {
   "cell_type": "code",
   "execution_count": 3,
   "metadata": {},
   "outputs": [],
   "source": [
    "\"\"\"\n",
    "Setting the master sequence\n",
    "\"\"\"\n",
    "\n",
    "master = \"GATACCAATTACCAGATACCA\""
   ]
  },
  {
   "cell_type": "code",
   "execution_count": 4,
   "metadata": {},
   "outputs": [],
   "source": [
    "\"\"\"Populate starting sequence \n",
    "   Formed by random sequences of length in the letters A, C, G, T\n",
    "    \n",
    "   Args:\n",
    "      genomelength: Constant number 21\n",
    "      letters: List of letters A, C, G, T\n",
    "\n",
    "    Returns:\n",
    "      A string of 21 random sequences consisted of letters A, C, G, T\n",
    "\n",
    "\"\"\"\n",
    "\n",
    "# Initialise the first genome\n",
    "\n",
    "letters  = ['A', 'C', 'T', 'G']\n",
    "pops = []\n",
    "\n",
    "seq = 10\n",
    "genomelength = 21\n",
    "\n",
    "# Generates genomelength string of chars in letters\n",
    "\n",
    "def createRandomGenome(genomelength,letters):\n",
    "    genome = ''\n",
    "    for i in range(genomelength):\n",
    "        genome=genome + random.choice(letters)\n",
    "    return genome\n"
   ]
  },
  {
   "cell_type": "code",
   "execution_count": 5,
   "metadata": {},
   "outputs": [
    {
     "name": "stdout",
     "output_type": "stream",
     "text": [
      "Creating starting sequence:\n"
     ]
    },
    {
     "data": {
      "text/plain": [
       "[['CTTGTTCTATTTTTCCGCGGA', 3],\n",
       " ['TATAGATATTTCCGTGTATTA', 11],\n",
       " ['GAAACATAAACGTGGATGCAC', 9],\n",
       " ['ACCTACGTAATAAATCGCTTG', 2],\n",
       " ['TTTGTTGGAATAGGCCGCTAC', 1],\n",
       " ['AACTCTGGAAGTCTCGCCCGG', 4],\n",
       " ['TGCCTTGATTTGTCTACCCGC', 5],\n",
       " ['ATAATGGGCCAATATTGTCTG', 4],\n",
       " ['ACGAATTCGATGGCTAGAAGC', 3],\n",
       " ['TCTAAACATTGTCCCCTCGTG', 7]]"
      ]
     },
     "execution_count": 5,
     "metadata": {},
     "output_type": "execute_result"
    }
   ],
   "source": [
    "\"\"\"Generate and display starting sequence of 21 random sequence 10 times\n",
    "    \n",
    "    Args:\n",
    "      seq: Number of genomes of 21 random sequence\n",
    "\n",
    "    Returns:\n",
    "      A list of 10 genomes\n",
    "\"\"\"\n",
    "\n",
    "\n",
    "print(\"Creating starting sequence:\")\n",
    "\n",
    "for i in range(seq):\n",
    "    g = [] \n",
    "    g = createRandomGenome(genomelength ,letters)\n",
    "    pop = [g, len(master)-distWord(master,g)]\n",
    "    pops.append(pop)\n",
    "\n",
    "pops"
   ]
  },
  {
   "cell_type": "code",
   "execution_count": 6,
   "metadata": {},
   "outputs": [],
   "source": [
    "\"\"\"Select the genome with the smallest distance to the master sequence\n",
    "\n",
    "    Args:\n",
    "      pops: List of genomes\n",
    "\n",
    "    Returns:\n",
    "      A list of the smallest genome sequence and its distance from the master sequence\n",
    "\n",
    "\"\"\"\n",
    "\n",
    "# reutrn the most similar genome to master, similar characters\n",
    "def selectMostSimilar(pops):\n",
    "    selection_list = sorted(pops, key=lambda x: x[1],reverse=True)\n",
    "    best = selection_list[0]\n",
    "    return best "
   ]
  },
  {
   "cell_type": "code",
   "execution_count": 7,
   "metadata": {},
   "outputs": [
    {
     "data": {
      "text/plain": [
       "['TATAGATATTTCCGTGTATTA', 11]"
      ]
     },
     "execution_count": 7,
     "metadata": {},
     "output_type": "execute_result"
    }
   ],
   "source": [
    "\"\"\"Call selectMostSimilar function, assign the output to an object called parent and display\n",
    "\"\"\"\n",
    "\n",
    "parent = selectMostSimilar(pops)\n",
    "parent"
   ]
  },
  {
   "cell_type": "code",
   "execution_count": 8,
   "metadata": {},
   "outputs": [],
   "source": [
    "\"\"\"Produce offspring and mutate with mutate rate as per offspring probability\n",
    "    \n",
    "   Args:\n",
    "      parent: \n",
    "\n",
    "    Returns:\n",
    "      A list\n",
    "\n",
    "\"\"\"\n",
    "\n",
    "offspring_probability = 10\n",
    "\n",
    "# 10 times, go through parent genome, change 1 in 10 characters, and add that to a list. \n",
    "# Return the list. \n",
    "\n",
    "def createOffspring(parent):\n",
    "    \n",
    "    offspring = [] # list of offspring to be mutated\n",
    "    \n",
    "    for i in range(genomelength):\n",
    "        offspring_genome = '' \n",
    "    \n",
    "        for char in str(parent[0]): \n",
    "            if random.randint(1,100) <= offspring_probability : \n",
    "                offspring_genome = offspring_genome + random.choice(letters) \n",
    "            else:  \n",
    "                offspring_genome = offspring_genome + char \n",
    "\n",
    "        offspring.append(offspring_genome, )\n",
    "      \n",
    "    return offspring"
   ]
  },
  {
   "cell_type": "code",
   "execution_count": 9,
   "metadata": {},
   "outputs": [
    {
     "data": {
      "text/plain": [
       "['TACAGGTATTTCCGTGTATTA',\n",
       " 'TATAGATATTCCCGTTTATTA',\n",
       " 'TATAGATATTTACGTGTTTTA',\n",
       " 'AATCGATATTTCGCTGTATTA',\n",
       " 'TATAGATATTTCCGTGTATTA',\n",
       " 'CATATACATTTCCGTGGATTA',\n",
       " 'TATAGATATTTGCGTGTATTA',\n",
       " 'TACAGATGTTTCCGTGTATTG',\n",
       " 'TATAGATATTTCCGTGGATTG',\n",
       " 'TAGAGATATTTCCGTGTATTA',\n",
       " 'TATAGATAGTCCCGTGCATTA',\n",
       " 'TATAGATATTTCCGTGTATTA',\n",
       " 'TATAGATATTTCCGTGTATTA',\n",
       " 'TATAGATTTTTCGCTGTATTA',\n",
       " 'TATAGATATTTCCGTGTATTA',\n",
       " 'TATAGATATTTCCGTGAATTA',\n",
       " 'TATAGAAACTTCCGTGAATTA',\n",
       " 'TCTAGACATTTCCGCGTATTA',\n",
       " 'TGTAGATATTTCCGTGTATGA',\n",
       " 'TATAGAGATTTCCGTGTATTA',\n",
       " 'TATATATATTTCCGTGTGTTA']"
      ]
     },
     "execution_count": 9,
     "metadata": {},
     "output_type": "execute_result"
    }
   ],
   "source": [
    "\"\"\"Generate and display 21 random sequence offsprings 10 times\n",
    "\"\"\"\n",
    "\n",
    "offspring = createOffspring(parent)\n",
    "offspring "
   ]
  },
  {
   "cell_type": "code",
   "execution_count": 10,
   "metadata": {},
   "outputs": [],
   "source": [
    "'''\n",
    "Step 4: Mutate, Calculate and Select fittest\n",
    "\n",
    "'''\n",
    "\n",
    "# returns the most similar genome from a list of 10 offspring genomes with similarity numbers\n",
    "def getBestChild(parent):\n",
    "    mutated_list = []\n",
    "    # create children from offspring\n",
    "    children = createOffspring(parent)\n",
    "    # mutate children\n",
    "    for c in children:\n",
    "        mutated = [c, len(master)-distWord(master,c)]\n",
    "        mutated_list.append(mutated)\n",
    "    \n",
    "    best = selectMostSimilar(mutated_list)\n",
    "    return best\n"
   ]
  },
  {
   "cell_type": "code",
   "execution_count": 11,
   "metadata": {},
   "outputs": [
    {
     "data": {
      "text/plain": [
       "['TATAGCTATTTCCGAGTATTA', 12]"
      ]
     },
     "execution_count": 11,
     "metadata": {},
     "output_type": "execute_result"
    }
   ],
   "source": [
    "# use children(parent) to mutate\n",
    "best = getBestChild(parent)\n",
    "best"
   ]
  },
  {
   "cell_type": "code",
   "execution_count": 12,
   "metadata": {},
   "outputs": [
    {
     "data": {
      "text/plain": [
       "['TATAGATATTTCCGTGTATTA', 11]"
      ]
     },
     "execution_count": 12,
     "metadata": {},
     "output_type": "execute_result"
    }
   ],
   "source": [
    "parent"
   ]
  },
  {
   "cell_type": "code",
   "execution_count": 13,
   "metadata": {},
   "outputs": [],
   "source": [
    "# take parent, generate offspring from parent, \n",
    "# choose best offspring, and choose between best offspring and parent for next generation\n",
    "def runGeneration(parent):\n",
    "    best_child = getBestChild(parent)\n",
    "    \n",
    "    if best_child[1] > parent[1]:\n",
    "        fittest = best_child\n",
    "    else:\n",
    "        fittest = parent\n",
    "    \n",
    "    return fittest\n",
    "    "
   ]
  },
  {
   "cell_type": "code",
   "execution_count": 14,
   "metadata": {},
   "outputs": [
    {
     "name": "stdout",
     "output_type": "stream",
     "text": [
      "Fittest:  ['TATACATATTTCCGTGTATTA', 12] Generation:  1\n",
      "Fittest:  ['TATATATATTTCCGGGTACCA', 14] Generation:  2\n",
      "Fittest:  ['TTTACATATTACCGGGTACCA', 15] Generation:  3\n",
      "Fittest:  ['TTTACATATTACCGGGTACCA', 15] Generation:  4\n",
      "Fittest:  ['TTTATCTATTACCAGGTACCA', 16] Generation:  5\n",
      "Fittest:  ['TTTATCTATTACCAGATACCA', 17] Generation:  6\n",
      "Fittest:  ['TTTATCTATTACCAGATACCA', 17] Generation:  7\n",
      "Fittest:  ['TTTATCTATTACCAGATACCA', 17] Generation:  8\n",
      "Fittest:  ['TTTATCTATTACCAGATACCA', 17] Generation:  9\n",
      "Fittest:  ['GTTATCTATTACCAGATACCA', 18] Generation:  10\n",
      "Fittest:  ['GTTATCTATTACCAGATACCA', 18] Generation:  11\n",
      "Fittest:  ['GATATCTATTACCAGATACCA', 19] Generation:  12\n",
      "Fittest:  ['GATACCCATTACCAGATACCA', 20] Generation:  13\n",
      "Fittest:  ['GATACCCATTACCAGATACCA', 20] Generation:  14\n",
      "Fittest:  ['GATACCCATTACCAGATACCA', 20] Generation:  15\n",
      "Fittest:  ['GATACCCATTACCAGATACCA', 20] Generation:  16\n",
      "Fittest:  ['GATACCCATTACCAGATACCA', 20] Generation:  17\n",
      "Fittest:  ['GATACCCATTACCAGATACCA', 20] Generation:  18\n",
      "Fittest:  ['GATACCCATTACCAGATACCA', 20] Generation:  19\n",
      "Fittest:  ['GATACCCATTACCAGATACCA', 20] Generation:  20\n",
      "Fittest:  ['GATACCCATTACCAGATACCA', 20] Generation:  21\n",
      "Fittest:  ['GATACCCATTACCAGATACCA', 20] Generation:  22\n",
      "Fittest:  ['GATACCAATTACCAGATACCA', 21] Generation:  23\n",
      "Master sequence has been achieved\n",
      "Probability  10 in 100\n",
      "Number of offspring  21\n",
      "Number of generations  23\n"
     ]
    }
   ],
   "source": [
    "fittest = parent\n",
    "\n",
    "progress_g = []\n",
    "progress_f = []\n",
    "\n",
    "g = 0\n",
    "while fittest[1] !=21:\n",
    "    new_fittest = runGeneration(fittest)\n",
    "    fittest = new_fittest\n",
    "    g +=1\n",
    "    progress_g.append(g)\n",
    "    progress_f.append(fittest[1])\n",
    "    # print(fittest)\n",
    "    print(\"Fittest: \", fittest, \"Generation: \", g)\n",
    "\n",
    "print(\"Master sequence has been achieved\")\n",
    "print(\"Probability \", offspring_probability, \"in 100\")\n",
    "print(\"Number of offspring \", genomelength)\n",
    "print(\"Number of generations \", g)\n",
    "\n",
    "    "
   ]
  },
  {
   "cell_type": "code",
   "execution_count": 16,
   "metadata": {},
   "outputs": [
    {
     "data": {
      "image/png": "[encoded data removed]",
      "text/plain": [
       "<Figure size 432x288 with 1 Axes>"
      ]
     },
     "metadata": {
      "needs_background": "light"
     },
     "output_type": "display_data"
    }
   ],
   "source": [
    "# Plot progress\n",
    "import matplotlib.pyplot as plt\n",
    "\n",
    "x = np.array(progress_g)\n",
    "y = np.array(progress_f)\n",
    "\n",
    "plt.plot(x, y)\n",
    "plt.xlabel('Generations')\n",
    "plt.ylim(top=25)\n",
    "plt.ylabel('Fittest Score')\n",
    "plt.show()"
   ]
  },
  {
   "cell_type": "code",
   "execution_count": null,
   "metadata": {},
   "outputs": [],
   "source": []
  }
 ],
 "metadata": {
  "kernelspec": {
   "display_name": "Python 3",
   "language": "python",
   "name": "python3"
  },
  "language_info": {
   "codemirror_mode": {
    "name": "ipython",
    "version": 3
   },
   "file_extension": ".py",
   "mimetype": "text/x-python",
   "name": "python",
   "nbconvert_exporter": "python",
   "pygments_lexer": "ipython3",
   "version": "3.7.3"
  }
 },
 "nbformat": 4,
 "nbformat_minor": 2
}
