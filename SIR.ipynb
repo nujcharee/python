{
 "cells": [
  {
   "cell_type": "code",
   "execution_count": 1,
   "metadata": {},
   "outputs": [
    {
     "name": "stdout",
     "output_type": "stream",
     "text": [
      "Infection cleared.\n",
      "0.5704054993894149\n"
     ]
    },
    {
     "data": {
      "image/png": "[encoded data removed]",
      "text/plain": [
       "<Figure size 432x288 with 1 Axes>"
      ]
     },
     "metadata": {
      "needs_background": "light"
     },
     "output_type": "display_data"
    },
    {
     "data": {
      "image/png": "[encoded data removed]",
      "text/plain": [
       "<Figure size 432x288 with 1 Axes>"
      ]
     },
     "metadata": {
      "needs_background": "light"
     },
     "output_type": "display_data"
    },
    {
     "data": {
      "image/png": "[encoded data removed]",
      "text/plain": [
       "<Figure size 432x288 with 1 Axes>"
      ]
     },
     "metadata": {
      "needs_background": "light"
     },
     "output_type": "display_data"
    },
    {
     "data": {
      "image/png": "[encoded data removed]",
      "text/plain": [
       "<Figure size 432x288 with 1 Axes>"
      ]
     },
     "metadata": {
      "needs_background": "light"
     },
     "output_type": "display_data"
    }
   ],
   "source": [
    "# Demo written by my professor on PILPS \n",
    "# To understand SIR Model\n",
    "\n",
    "import random\n",
    "import matplotlib.pyplot as plt\n",
    "import numpy as np\n",
    "\n",
    "number_of_reactions = 8\n",
    "\n",
    "x_vir = []\n",
    "x_inf_cell  = []\n",
    "x_immune_cell = []\n",
    "x_susc_cell  = []\n",
    "x_time = []\n",
    "\n",
    "\n",
    "t_max = 20.0 # 100 days running\n",
    "time  = 0\n",
    "t_out  = 1.0*10**(-6) # time step for writeout        \n",
    "i_out  = 1 # parameter for writeout\n",
    "d_time = 1.0*10**(-6) # parameter for writeout\n",
    "\n",
    "\n",
    "\n",
    "n_vir = 5 # - no. of virus particles  \n",
    "n_inf_cell = 10 # - no. of infected cells\n",
    "#n_inf_cell = 100 # - no. of infected cells\n",
    "n_immune_cell = 150 # - no. of immune cells (start)\n",
    "n_susc_cell = 500000 # - no. of uninfected cells (start)\n",
    "\n",
    "beta = 5.700*10**(-6)  #beta  - infectivity rate\n",
    "#beta = 1.000*10**(-6)  #beta  - infectivity rate; leads to quick clearance\n",
    "alph = 5.000*10**(-2)  #alpha - removal infected cell by immune\n",
    "gamm = 8.000*10**(-5)  #gamma - removal virus by immune\n",
    "\n",
    "\n",
    "        \n",
    "pt = 4.00*10**(6)   #Pt - target cell\n",
    "pe = 5.00*10**(-5)  #Pe - immune from infected\n",
    "#pe = 1.00*10**(5)  #Pe - immune system super strong, eradicates everything\n",
    "\n",
    "\n",
    "dt = 0.10   #0.10d0   !Dt  (1/day) - death target cell\n",
    "di = 0.50   #0.50d0   !Di  (1/day) - death infected cell\n",
    "de = 0.10   #0.10d0   !De  (1/day) - death immune cell\n",
    "\n",
    "# probability vector\n",
    "b = np.array([0,0,0,0,0,0,0,0])\n",
    "\n",
    "\n",
    "# infection modelling\n",
    "\n",
    "while time < t_max:\n",
    "    #stop when infection is cleared\n",
    "    if n_vir == 0 and n_inf_cell == 0:\n",
    "        print('Infection cleared.')\n",
    "        break\n",
    "        \n",
    "    if n_susc_cell == 0:\n",
    "        print('Oh dear, it is all over.')\n",
    "        break\n",
    "    \n",
    "    #tmp = random.randint(1,number_of_reactions)\n",
    "  \n",
    "    \n",
    "    # calculate rates and probabilities for the different reactions\n",
    "    b[0] = pt          \n",
    "    b[1] = beta * n_susc_cell * n_vir \n",
    "    b[2] = pe * n_immune_cell * n_inf_cell          \n",
    "    b[3] = dt * n_susc_cell          \n",
    "    b[4] = di * n_inf_cell\n",
    "    b[5] = de * n_immune_cell          \n",
    "    b[6] = alph * n_immune_cell * n_inf_cell          \n",
    "    b[7] = gamm * n_immune_cell * n_vir\n",
    "\n",
    "    b_tot=np.sum(b)\n",
    "\n",
    "    \n",
    "    #select time interval for tau jumping\n",
    "    r = random.random()\n",
    "    if r < 10**(-9):\n",
    "        r = random.random() # 0 does occasionally happen - if so override\n",
    "         \n",
    "    tau = np.log(1.0/r)\n",
    "    tau = tau/b_tot\n",
    "    time = time + tau \n",
    "    \n",
    "    \n",
    "    #pick which reaction is likely to occur because of the relative probabilities\n",
    "    r = random.random()          \n",
    "    r = r * b_tot \n",
    "    i = 0\n",
    "    b_tot = 0.0\n",
    "    while b_tot < r:\n",
    "        b_tot = b_tot + b[i]\n",
    "        i = i + 1\n",
    "\n",
    "        \n",
    "    #write out in a staggered way \n",
    "    if ( time >= t_out ):\n",
    "        x_vir.append(n_vir)\n",
    "        x_inf_cell.append(n_inf_cell)\n",
    "        x_susc_cell.append(n_susc_cell)\n",
    "        x_immune_cell.append(n_immune_cell)\n",
    "        x_time.append(time)\n",
    "   \n",
    "   \n",
    "        i_out = i_out + 1\n",
    "        t_out = t_out + d_time\n",
    "\n",
    "        if ( i_out == 10 ):\n",
    "            i_out = 1\n",
    "            if ( d_time < 0.001 ):\n",
    "                d_time = d_time * 10.0\n",
    "            \n",
    "    \n",
    "    # different coupled reactions and how they affect the species numbers\n",
    "    \n",
    "    # susceptible cell birth\n",
    "    if i == 1:\n",
    "        n_susc_cell +=  1        \n",
    "    \n",
    "    # infect susceptible cell \n",
    "    if i == 2:\n",
    "        if n_vir > 0:\n",
    "            n_susc_cell -= 1\n",
    "            n_inf_cell  += 1\n",
    "            n_vir -= 1  \n",
    "            \n",
    "    # immune cell birth\n",
    "    if i == 3:\n",
    "        n_immune_cell +=  1\n",
    "        \n",
    "    # susceptible cell death \n",
    "    if i == 4:\n",
    "        n_susc_cell -= 1\n",
    "        \n",
    "    # infected cell death \n",
    "    if i == 5:\n",
    "        n_inf_cell -= 1\n",
    "        n_vir += 2000\n",
    "        \n",
    "    # immune cell death \n",
    "    if i == 6:\n",
    "        n_immune_cell -= 1\n",
    "        \n",
    "    # infected cell removal by immune system \n",
    "    if i == 7:\n",
    "        n_inf_cell -= 1\n",
    "\n",
    "    # virus particle removal by immune system \n",
    "    if i == 8:\n",
    "        n_vir -= 1\n",
    "        \n",
    "    \n",
    "print(time)\n",
    "\n",
    "# plot all 4 species\n",
    "plt.plot(x_time, x_vir, color = 'red')\n",
    "plt.show()\n",
    "plt.plot(x_time, x_inf_cell,  color = 'orange')\n",
    "plt.show()\n",
    "plt.plot(x_time, x_susc_cell,  color = 'blue')\n",
    "plt.show()\n",
    "plt.plot(x_time, x_immune_cell, color = 'green')\n",
    "plt.show()\n"
   ]
  },
  {
   "cell_type": "code",
   "execution_count": null,
   "metadata": {},
   "outputs": [],
   "source": []
  }
 ],
 "metadata": {
  "kernelspec": {
   "display_name": "Python 3",
   "language": "python",
   "name": "python3"
  },
  "language_info": {
   "codemirror_mode": {
    "name": "ipython",
    "version": 3
   },
   "file_extension": ".py",
   "mimetype": "text/x-python",
   "name": "python",
   "nbconvert_exporter": "python",
   "pygments_lexer": "ipython3",
   "version": "3.7.3"
  }
 },
 "nbformat": 4,
 "nbformat_minor": 4
}
