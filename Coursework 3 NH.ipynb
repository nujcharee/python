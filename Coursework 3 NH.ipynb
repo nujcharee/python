{
 "cells": [
  {
   "cell_type": "code",
   "execution_count": null,
   "metadata": {},
   "outputs": [],
   "source": [
    "#import pandas as pd\n",
    "#import scipy.stats as stats\n"
   ]
  },
  {
   "cell_type": "code",
   "execution_count": null,
   "metadata": {},
   "outputs": [],
   "source": [
    "#data = {'area1': [6.2,9.3,6.8,6.1,6.7,7.5]\n",
    "#        , 'area2': [7.5, 8.2, 8.5, 8.2, 7, 9.3]\n",
    "#        , 'area3': [5.8,6.4,5.6,7.1,3,3.5]}\n",
    "\n",
    "#food = pd.DataFrame(data=data)\n"
   ]
  },
  {
   "cell_type": "code",
   "execution_count": null,
   "metadata": {},
   "outputs": [],
   "source": [
    "#result = stats.f_oneway(food['area1'], food['area2'], food['area3'])\n",
    "#print('F-statistic: {:.3f}, p-value: {:.5f}'.format( result[0], result[1] ))"
   ]
  },
  {
   "cell_type": "markdown",
   "metadata": {},
   "source": [
    "# Question 3"
   ]
  },
  {
   "cell_type": "code",
   "execution_count": 1,
   "metadata": {},
   "outputs": [
    {
     "data": {
      "text/html": [
       "<div>\n",
       "<style scoped>\n",
       "    .dataframe tbody tr th:only-of-type {\n",
       "        vertical-align: middle;\n",
       "    }\n",
       "\n",
       "    .dataframe tbody tr th {\n",
       "        vertical-align: top;\n",
       "    }\n",
       "\n",
       "    .dataframe thead th {\n",
       "        text-align: right;\n",
       "    }\n",
       "</style>\n",
       "<table border=\"1\" class=\"dataframe\">\n",
       "  <thead>\n",
       "    <tr style=\"text-align: right;\">\n",
       "      <th></th>\n",
       "      <th>Damaged</th>\n",
       "      <th>Temp</th>\n",
       "      <th>failure</th>\n",
       "    </tr>\n",
       "  </thead>\n",
       "  <tbody>\n",
       "    <tr>\n",
       "      <th>0</th>\n",
       "      <td>2</td>\n",
       "      <td>53</td>\n",
       "      <td>1</td>\n",
       "    </tr>\n",
       "    <tr>\n",
       "      <th>1</th>\n",
       "      <td>1</td>\n",
       "      <td>57</td>\n",
       "      <td>1</td>\n",
       "    </tr>\n",
       "    <tr>\n",
       "      <th>2</th>\n",
       "      <td>1</td>\n",
       "      <td>58</td>\n",
       "      <td>1</td>\n",
       "    </tr>\n",
       "    <tr>\n",
       "      <th>3</th>\n",
       "      <td>1</td>\n",
       "      <td>63</td>\n",
       "      <td>1</td>\n",
       "    </tr>\n",
       "    <tr>\n",
       "      <th>4</th>\n",
       "      <td>0</td>\n",
       "      <td>66</td>\n",
       "      <td>0</td>\n",
       "    </tr>\n",
       "    <tr>\n",
       "      <th>5</th>\n",
       "      <td>0</td>\n",
       "      <td>67</td>\n",
       "      <td>0</td>\n",
       "    </tr>\n",
       "    <tr>\n",
       "      <th>6</th>\n",
       "      <td>0</td>\n",
       "      <td>67</td>\n",
       "      <td>0</td>\n",
       "    </tr>\n",
       "    <tr>\n",
       "      <th>7</th>\n",
       "      <td>0</td>\n",
       "      <td>67</td>\n",
       "      <td>0</td>\n",
       "    </tr>\n",
       "    <tr>\n",
       "      <th>8</th>\n",
       "      <td>0</td>\n",
       "      <td>68</td>\n",
       "      <td>0</td>\n",
       "    </tr>\n",
       "    <tr>\n",
       "      <th>9</th>\n",
       "      <td>0</td>\n",
       "      <td>69</td>\n",
       "      <td>0</td>\n",
       "    </tr>\n",
       "    <tr>\n",
       "      <th>10</th>\n",
       "      <td>0</td>\n",
       "      <td>70</td>\n",
       "      <td>0</td>\n",
       "    </tr>\n",
       "    <tr>\n",
       "      <th>11</th>\n",
       "      <td>0</td>\n",
       "      <td>70</td>\n",
       "      <td>0</td>\n",
       "    </tr>\n",
       "    <tr>\n",
       "      <th>12</th>\n",
       "      <td>1</td>\n",
       "      <td>70</td>\n",
       "      <td>1</td>\n",
       "    </tr>\n",
       "    <tr>\n",
       "      <th>13</th>\n",
       "      <td>1</td>\n",
       "      <td>70</td>\n",
       "      <td>1</td>\n",
       "    </tr>\n",
       "    <tr>\n",
       "      <th>14</th>\n",
       "      <td>0</td>\n",
       "      <td>72</td>\n",
       "      <td>0</td>\n",
       "    </tr>\n",
       "    <tr>\n",
       "      <th>15</th>\n",
       "      <td>0</td>\n",
       "      <td>73</td>\n",
       "      <td>0</td>\n",
       "    </tr>\n",
       "    <tr>\n",
       "      <th>16</th>\n",
       "      <td>0</td>\n",
       "      <td>75</td>\n",
       "      <td>0</td>\n",
       "    </tr>\n",
       "    <tr>\n",
       "      <th>17</th>\n",
       "      <td>2</td>\n",
       "      <td>75</td>\n",
       "      <td>1</td>\n",
       "    </tr>\n",
       "    <tr>\n",
       "      <th>18</th>\n",
       "      <td>0</td>\n",
       "      <td>76</td>\n",
       "      <td>0</td>\n",
       "    </tr>\n",
       "    <tr>\n",
       "      <th>19</th>\n",
       "      <td>0</td>\n",
       "      <td>78</td>\n",
       "      <td>0</td>\n",
       "    </tr>\n",
       "    <tr>\n",
       "      <th>20</th>\n",
       "      <td>0</td>\n",
       "      <td>79</td>\n",
       "      <td>0</td>\n",
       "    </tr>\n",
       "    <tr>\n",
       "      <th>21</th>\n",
       "      <td>0</td>\n",
       "      <td>81</td>\n",
       "      <td>0</td>\n",
       "    </tr>\n",
       "    <tr>\n",
       "      <th>22</th>\n",
       "      <td>0</td>\n",
       "      <td>76</td>\n",
       "      <td>0</td>\n",
       "    </tr>\n",
       "  </tbody>\n",
       "</table>\n",
       "</div>"
      ],
      "text/plain": [
       "    Damaged  Temp  failure\n",
       "0         2    53        1\n",
       "1         1    57        1\n",
       "2         1    58        1\n",
       "3         1    63        1\n",
       "4         0    66        0\n",
       "5         0    67        0\n",
       "6         0    67        0\n",
       "7         0    67        0\n",
       "8         0    68        0\n",
       "9         0    69        0\n",
       "10        0    70        0\n",
       "11        0    70        0\n",
       "12        1    70        1\n",
       "13        1    70        1\n",
       "14        0    72        0\n",
       "15        0    73        0\n",
       "16        0    75        0\n",
       "17        2    75        1\n",
       "18        0    76        0\n",
       "19        0    78        0\n",
       "20        0    79        0\n",
       "21        0    81        0\n",
       "22        0    76        0"
      ]
     },
     "execution_count": 1,
     "metadata": {},
     "output_type": "execute_result"
    }
   ],
   "source": [
    "import pandas as pd\n",
    "import seaborn as sns\n",
    "import numpy as np\n",
    "#np.genfromtxt('challenger.txt', skip_header=1, usecols=[1, 2], missing_values='NA', delimiter=',')\n",
    "shuttle = pd.read_csv(\"spaceshuttle.txt\", sep = \"\\t\")\n",
    "#pd.DataFrame(challenger_data,columns=('tem','outcome'))\n",
    "\n",
    "shuttle['failure'] = np.where(shuttle['Damaged']==0, 0, 1)\n",
    "shuttle\n"
   ]
  },
  {
   "cell_type": "markdown",
   "metadata": {},
   "source": [
    "### Question 3a"
   ]
  },
  {
   "cell_type": "markdown",
   "metadata": {},
   "source": [
    "(a)\tFit a logistic regression connecting the probability of O-rings failure (2 or 1 damaged are both considered as failures) with temperature. Interpret the coefficients"
   ]
  },
  {
   "cell_type": "code",
   "execution_count": 2,
   "metadata": {},
   "outputs": [
    {
     "name": "stdout",
     "output_type": "stream",
     "text": [
      "Optimization terminated successfully.\n",
      "         Current function value: 0.441635\n",
      "         Iterations 7\n",
      "                           Logit Regression Results                           \n",
      "==============================================================================\n",
      "Dep. Variable:                failure   No. Observations:                   23\n",
      "Model:                          Logit   Df Residuals:                       21\n",
      "Method:                           MLE   Df Model:                            1\n",
      "Date:                Tue, 02 Feb 2021   Pseudo R-squ.:                  0.2813\n",
      "Time:                        09:44:24   Log-Likelihood:                -10.158\n",
      "converged:                       True   LL-Null:                       -14.134\n",
      "Covariance Type:            nonrobust   LLR p-value:                  0.004804\n",
      "==============================================================================\n",
      "                 coef    std err          z      P>|z|      [0.025      0.975]\n",
      "------------------------------------------------------------------------------\n",
      "Intercept     15.0429      7.379      2.039      0.041       0.581      29.505\n",
      "Temp          -0.2322      0.108     -2.145      0.032      -0.444      -0.020\n",
      "==============================================================================\n",
      "                 5%           95%    Odds Ratio\n",
      "Intercept  1.787897  6.512622e+12  3.412315e+06\n",
      "Temp       0.641271  9.801761e-01  7.928171e-01\n"
     ]
    }
   ],
   "source": [
    "import statsmodels.formula.api as smf\n",
    "import math\n",
    "\n",
    "logit = smf.logit('failure~Temp',shuttle).fit()\n",
    "print(logit.summary())\n",
    "\n",
    "\n",
    "#convert output to %\n",
    "\n",
    "params = logit.params\n",
    "conf = logit.conf_int()\n",
    "conf['Odds Ratio'] = params\n",
    "conf.columns = ['5%', '95%', 'Odds Ratio']\n",
    "print(np.exp(conf))\n"
   ]
  },
  {
   "cell_type": "markdown",
   "metadata": {},
   "source": [
    "### Interpretation of coefficient\n",
    "The logistic regression of Failure~Temp has coefficient -0.2322 for Temp parameter.\n",
    "\n",
    "For every 1 Farenheit increase in temperature, the odds of the o-rings failing for a given launch decreases by a factor of 0.79. In the other words, the odds of an o-ring failure during launch decrease by 21% (1-0.79).\n",
    "\n",
    "\n"
   ]
  },
  {
   "cell_type": "markdown",
   "metadata": {},
   "source": [
    "### Question 3b"
   ]
  },
  {
   "cell_type": "code",
   "execution_count": 3,
   "metadata": {
    "scrolled": true
   },
   "outputs": [
    {
     "name": "stdout",
     "output_type": "stream",
     "text": [
      "Optimization terminated successfully.\n",
      "         Current function value: 0.326749\n",
      "         Iterations 8\n",
      "                           Logit Regression Results                           \n",
      "==============================================================================\n",
      "Dep. Variable:                failure   No. Observations:                   22\n",
      "Model:                          Logit   Df Residuals:                       20\n",
      "Method:                           MLE   Df Model:                            1\n",
      "Date:                Tue, 02 Feb 2021   Pseudo R-squ.:                  0.4424\n",
      "Time:                        18:15:39   Log-Likelihood:                -7.1885\n",
      "converged:                       True   LL-Null:                       -12.891\n",
      "Covariance Type:            nonrobust   LLR p-value:                 0.0007325\n",
      "==============================================================================\n",
      "                 coef    std err          z      P>|z|      [0.025      0.975]\n",
      "------------------------------------------------------------------------------\n",
      "Intercept     23.4033     11.832      1.978      0.048       0.214      46.593\n",
      "Temp          -0.3610      0.176     -2.057      0.040      -0.705      -0.017\n",
      "==============================================================================\n",
      "                 5%           95%            OR\n",
      "Intercept  1.238225  1.718118e+20  1.458566e+10\n",
      "Temp       0.494097  9.831259e-01  6.969644e-01\n",
      "e^coefficient 0.6969643910870553\n"
     ]
    }
   ],
   "source": [
    "shuttle_no75 = shuttle.drop(17)\n",
    "logit_no75 = smf.logit('failure~Temp',shuttle_no75).fit()\n",
    "print(logit_no75.summary())\n",
    "\n",
    "\n",
    "params = logit_no75.params\n",
    "conf = logit_no75.conf_int()\n",
    "conf['Odds Ratio'] = params\n",
    "conf.columns = ['5%', '95%', 'OR']\n",
    "print(np.exp(conf))\n",
    "print(\"e^coefficient\", np.exp(params[1]))\n"
   ]
  },
  {
   "cell_type": "markdown",
   "metadata": {},
   "source": [
    "### Interpretation of coefficient\n",
    "The logistic regression of Failure~Temp has coefficient -0.361 for the Temp parameter\n",
    "The correct interpretation is that the odds ratio is multiplied by e^-0.3610 for each unit increase in temperature\n",
    "Thus for each 1 degree increase in temperature the odds ratio is multiplied by 0.696964\n",
    "This means that as the temperature decreases the chance of failure increases by approximately 70%\n",
    "\n"
   ]
  },
  {
   "cell_type": "markdown",
   "metadata": {},
   "source": [
    "### Question 3c"
   ]
  },
  {
   "cell_type": "code",
   "execution_count": 4,
   "metadata": {},
   "outputs": [
    {
     "name": "stdout",
     "output_type": "stream",
     "text": [
      "Optimization terminated successfully.\n",
      "         Current function value: 0.326749\n",
      "         Iterations 8\n",
      "                           Logit Regression Results                           \n",
      "==============================================================================\n",
      "Dep. Variable:                failure   No. Observations:                   22\n",
      "Model:                          Logit   Df Residuals:                       20\n",
      "Method:                           MLE   Df Model:                            1\n",
      "Date:                Tue, 02 Feb 2021   Pseudo R-squ.:                  0.4424\n",
      "Time:                        19:58:16   Log-Likelihood:                -7.1885\n",
      "converged:                       True   LL-Null:                       -12.891\n",
      "Covariance Type:            nonrobust   LLR p-value:                 0.0007325\n",
      "==============================================================================\n",
      "                 coef    std err          z      P>|z|      [0.025      0.975]\n",
      "------------------------------------------------------------------------------\n",
      "Intercept     23.4033     11.832      1.978      0.048       0.214      46.593\n",
      "Temp          -0.3610      0.176     -2.057      0.040      -0.705      -0.017\n",
      "==============================================================================\n"
     ]
    }
   ],
   "source": [
    "predictions = logit_no75.predict()\n",
    "shuttle_no75['pred']=[ \"0.0\" if x < 0.5 else \"1.0\" for x in predictions]\n",
    "shuttle_no75.drop(['Damaged'], axis=1)\n",
    "\n",
    "logit_31 = smf.logit('failure~Temp',shuttle_no75).fit()\n",
    "\n",
    "print(logit_31.summary())\n",
    "\n"
   ]
  },
  {
   "cell_type": "code",
   "execution_count": 8,
   "metadata": {},
   "outputs": [
    {
     "name": "stdout",
     "output_type": "stream",
     "text": [
      "The probability of an O-ring failure when the temperature at launch was 31 degrees Fahrenheit is 99.9995%\n"
     ]
    }
   ],
   "source": [
    "alpha = logit_31.params[0]\n",
    "beta = logit_31.params[1]\n",
    "y = np.exp(np.dot(beta, 31) + alpha)/ (1.0 + np.exp(np.dot(beta, 31) + alpha))\n",
    "print(\"The probability of an O-ring failure when the temperature at launch was 31 degrees Fahrenheit is {:.4%}\".format(y))      \n",
    "# format(np.exp(23.0055-0.3549*31)/(1+np.exp(23.0055-0.3549*31))))\n"
   ]
  },
  {
   "cell_type": "markdown",
   "metadata": {},
   "source": [
    "### Question 3d"
   ]
  },
  {
   "cell_type": "code",
   "execution_count": 10,
   "metadata": {},
   "outputs": [
    {
     "name": "stdout",
     "output_type": "stream",
     "text": [
      "The overall correct classification rate is: 0.9090909090909091\n"
     ]
    },
    {
     "data": {
      "image/png": "[encoded data removed]",
      "text/plain": [
       "<Figure size 432x288 with 1 Axes>"
      ]
     },
     "metadata": {
      "needs_background": "light"
     },
     "output_type": "display_data"
    },
    {
     "data": {
      "text/html": [
       "<div>\n",
       "<style scoped>\n",
       "    .dataframe tbody tr th:only-of-type {\n",
       "        vertical-align: middle;\n",
       "    }\n",
       "\n",
       "    .dataframe tbody tr th {\n",
       "        vertical-align: top;\n",
       "    }\n",
       "\n",
       "    .dataframe thead th {\n",
       "        text-align: right;\n",
       "    }\n",
       "</style>\n",
       "<table border=\"1\" class=\"dataframe\">\n",
       "  <thead>\n",
       "    <tr style=\"text-align: right;\">\n",
       "      <th></th>\n",
       "      <th>Damaged</th>\n",
       "      <th>Temp</th>\n",
       "      <th>failure</th>\n",
       "    </tr>\n",
       "  </thead>\n",
       "  <tbody>\n",
       "    <tr>\n",
       "      <th>0</th>\n",
       "      <td>2</td>\n",
       "      <td>53</td>\n",
       "      <td>1</td>\n",
       "    </tr>\n",
       "    <tr>\n",
       "      <th>1</th>\n",
       "      <td>1</td>\n",
       "      <td>57</td>\n",
       "      <td>1</td>\n",
       "    </tr>\n",
       "    <tr>\n",
       "      <th>2</th>\n",
       "      <td>1</td>\n",
       "      <td>58</td>\n",
       "      <td>1</td>\n",
       "    </tr>\n",
       "    <tr>\n",
       "      <th>3</th>\n",
       "      <td>1</td>\n",
       "      <td>63</td>\n",
       "      <td>1</td>\n",
       "    </tr>\n",
       "    <tr>\n",
       "      <th>4</th>\n",
       "      <td>0</td>\n",
       "      <td>66</td>\n",
       "      <td>0</td>\n",
       "    </tr>\n",
       "    <tr>\n",
       "      <th>5</th>\n",
       "      <td>0</td>\n",
       "      <td>67</td>\n",
       "      <td>0</td>\n",
       "    </tr>\n",
       "    <tr>\n",
       "      <th>6</th>\n",
       "      <td>0</td>\n",
       "      <td>67</td>\n",
       "      <td>0</td>\n",
       "    </tr>\n",
       "    <tr>\n",
       "      <th>7</th>\n",
       "      <td>0</td>\n",
       "      <td>67</td>\n",
       "      <td>0</td>\n",
       "    </tr>\n",
       "    <tr>\n",
       "      <th>8</th>\n",
       "      <td>0</td>\n",
       "      <td>68</td>\n",
       "      <td>0</td>\n",
       "    </tr>\n",
       "    <tr>\n",
       "      <th>9</th>\n",
       "      <td>0</td>\n",
       "      <td>69</td>\n",
       "      <td>0</td>\n",
       "    </tr>\n",
       "    <tr>\n",
       "      <th>10</th>\n",
       "      <td>0</td>\n",
       "      <td>70</td>\n",
       "      <td>0</td>\n",
       "    </tr>\n",
       "    <tr>\n",
       "      <th>11</th>\n",
       "      <td>0</td>\n",
       "      <td>70</td>\n",
       "      <td>0</td>\n",
       "    </tr>\n",
       "    <tr>\n",
       "      <th>12</th>\n",
       "      <td>1</td>\n",
       "      <td>70</td>\n",
       "      <td>1</td>\n",
       "    </tr>\n",
       "    <tr>\n",
       "      <th>13</th>\n",
       "      <td>1</td>\n",
       "      <td>70</td>\n",
       "      <td>1</td>\n",
       "    </tr>\n",
       "    <tr>\n",
       "      <th>14</th>\n",
       "      <td>0</td>\n",
       "      <td>72</td>\n",
       "      <td>0</td>\n",
       "    </tr>\n",
       "    <tr>\n",
       "      <th>15</th>\n",
       "      <td>0</td>\n",
       "      <td>73</td>\n",
       "      <td>0</td>\n",
       "    </tr>\n",
       "    <tr>\n",
       "      <th>16</th>\n",
       "      <td>0</td>\n",
       "      <td>75</td>\n",
       "      <td>0</td>\n",
       "    </tr>\n",
       "    <tr>\n",
       "      <th>17</th>\n",
       "      <td>2</td>\n",
       "      <td>75</td>\n",
       "      <td>1</td>\n",
       "    </tr>\n",
       "    <tr>\n",
       "      <th>18</th>\n",
       "      <td>0</td>\n",
       "      <td>76</td>\n",
       "      <td>0</td>\n",
       "    </tr>\n",
       "    <tr>\n",
       "      <th>19</th>\n",
       "      <td>0</td>\n",
       "      <td>78</td>\n",
       "      <td>0</td>\n",
       "    </tr>\n",
       "    <tr>\n",
       "      <th>20</th>\n",
       "      <td>0</td>\n",
       "      <td>79</td>\n",
       "      <td>0</td>\n",
       "    </tr>\n",
       "    <tr>\n",
       "      <th>21</th>\n",
       "      <td>0</td>\n",
       "      <td>81</td>\n",
       "      <td>0</td>\n",
       "    </tr>\n",
       "    <tr>\n",
       "      <th>22</th>\n",
       "      <td>0</td>\n",
       "      <td>76</td>\n",
       "      <td>0</td>\n",
       "    </tr>\n",
       "  </tbody>\n",
       "</table>\n",
       "</div>"
      ],
      "text/plain": [
       "    Damaged  Temp  failure\n",
       "0         2    53        1\n",
       "1         1    57        1\n",
       "2         1    58        1\n",
       "3         1    63        1\n",
       "4         0    66        0\n",
       "5         0    67        0\n",
       "6         0    67        0\n",
       "7         0    67        0\n",
       "8         0    68        0\n",
       "9         0    69        0\n",
       "10        0    70        0\n",
       "11        0    70        0\n",
       "12        1    70        1\n",
       "13        1    70        1\n",
       "14        0    72        0\n",
       "15        0    73        0\n",
       "16        0    75        0\n",
       "17        2    75        1\n",
       "18        0    76        0\n",
       "19        0    78        0\n",
       "20        0    79        0\n",
       "21        0    81        0\n",
       "22        0    76        0"
      ]
     },
     "execution_count": 10,
     "metadata": {},
     "output_type": "execute_result"
    }
   ],
   "source": [
    "import matplotlib.pyplot as plt\n",
    "prediction_31 = logit_31.predict()\n",
    "\n",
    "shuttle_no75['pred']=[ 0 if x < 0.5 else 1 for x in predictions]\n",
    "shuttle_no75\n",
    "\n",
    "print('The overall correct classification rate is:', 1-abs(shuttle_no75['failure']-shuttle_no75['pred']).sum()/logit_no75.nobs)\n",
    "\n",
    "x = np.arange(50, 85)\n",
    "alpha = logit.params[0]\n",
    "beta = logit.params[1]\n",
    "y = np.exp(np.dot(beta, x) + alpha)/ (1.0 + np.exp(np.dot(beta, x) + alpha))\n",
    "# First plot the original data\n",
    "plt.figure()\n",
    "sns.set_style('darkgrid')\n",
    "np.set_printoptions(precision=3, suppress=True)\n",
    "\n",
    "plt.scatter(shuttle['Temp'], shuttle['failure'], s=50, color=\"k\", alpha=1)\n",
    "plt.xlim([50, 85])\n",
    "plt.yticks([0, 1])\n",
    "plt.ylabel(\"Damage Incident?\")\n",
    "plt.xlabel(\"Outside Temperature [F]\")\n",
    "plt.title(\"Defects of the Space Shuttle O-Rings vs temperature\")\n",
    "plt.tight_layout\n",
    "\n",
    "plt.plot(x,y,'r')\n",
    "plt.show()\n",
    "\n",
    "shuttle"
   ]
  },
  {
   "cell_type": "markdown",
   "metadata": {},
   "source": [
    "### Would you have advised the launching on that particular day?"
   ]
  },
  {
   "cell_type": "markdown",
   "metadata": {},
   "source": [
    "As the prediction shown above, the trend for all launches shows a clear negative dependence between temperature and failures.\n",
    "\n",
    "The minimum temperature for a launch without incidents ever recorded was above  \n",
    "66 Farenheit and the Challenger was launched at 31 Farenheit which clearly not advisable due to the effects of such low temperatures."
   ]
  },
  {
   "cell_type": "markdown",
   "metadata": {},
   "source": [
    "# Question 4"
   ]
  },
  {
   "cell_type": "markdown",
   "metadata": {},
   "source": [
    "### Question 4a"
   ]
  },
  {
   "cell_type": "code",
   "execution_count": 11,
   "metadata": {},
   "outputs": [
    {
     "name": "stdout",
     "output_type": "stream",
     "text": [
      "Found solution after 3 iterations.\n",
      "0.5485890147300966\n"
     ]
    }
   ],
   "source": [
    "# newton r\n",
    "# Original author: Patrick Walls\n",
    "def newton(f,Df,x0,epsilon,max_iter):\n",
    "    '''Approximate solution of f(x)=0 by Newton's method.\n",
    "\n",
    "    Parameters\n",
    "    ----------\n",
    "    f : function\n",
    "        Function for which we are searching for a solution f(x)=0.\n",
    "    Df : function\n",
    "        Derivative of f(x).\n",
    "    x0 : number\n",
    "        Initial guess for a solution f(x)=0.\n",
    "    epsilon : number\n",
    "        Stopping criteria is abs(f(x)) < epsilon.\n",
    "    max_iter : integer\n",
    "        Maximum number of iterations of Newton's method.\n",
    "\n",
    "    Returns\n",
    "    -------\n",
    "    xn : number\n",
    "        Implement Newton's method: compute the linear approximation\n",
    "        of f(x) at xn and find x intercept by the formula\n",
    "            x = xn - f(xn)/Df(xn)\n",
    "        Continue until abs(f(xn)) < epsilon and return xn.\n",
    "        If Df(xn) == 0, return None. If the number of iterations\n",
    "        exceeds max_iter, then return None.\n",
    "\n",
    "    \n",
    "    '''\n",
    "    xn = x0\n",
    "    for n in range(0,max_iter):\n",
    "        fxn = f(xn)\n",
    "        if abs(fxn) < epsilon:\n",
    "            print('Found solution after',n,'iterations.')\n",
    "            return xn\n",
    "        Dfxn = Df(xn)\n",
    "        if Dfxn == 0:\n",
    "            print('Zero derivative. No solution found.')\n",
    "            return None\n",
    "        xn = xn - fxn/Dfxn\n",
    "    print('Exceeded maximum iterations. No solution found.')\n",
    "    return None\n",
    "\n",
    "\n",
    "f = lambda x: -30*x**2 - 20*x + 20\n",
    "Df = lambda x: -60*x - 20\n",
    "print(newton(f,Df,1,0.1,10))\n",
    "#print(newton(f,Df,-1,0.1,10))"
   ]
  },
  {
   "cell_type": "markdown",
   "metadata": {},
   "source": [
    "### Question 4b"
   ]
  },
  {
   "cell_type": "code",
   "execution_count": 12,
   "metadata": {},
   "outputs": [
    {
     "name": "stdout",
     "output_type": "stream",
     "text": [
      "z_12=  0.47619047619047616\n",
      "EM algorithm update: theta1= 0.5116279069767442\n",
      "z_12=  2.037037037037037\n",
      "EM algorithm update: theta2= 0.546218487394958\n",
      "z_12=  2.145214521452145\n",
      "EM algorithm update: theta3= 0.548435171385991\n"
     ]
    }
   ],
   "source": [
    "####data\n",
    "z=[10,10,10]\n",
    "\n",
    "####initial guess\n",
    "theta0=0.1\n",
    "\n",
    "####E-step\n",
    "####Q function###\n",
    "\n",
    "z_12=z[0]*theta0/(2+theta0)\n",
    "Qfn=(z_12+z[2])*np.log(theta0)+(z[1])*np.log(1-theta0)\n",
    "####M-step\n",
    "theta1=(z_12+z[2])/(z_12+z[2]+z[1])\n",
    "####\n",
    "print('z_12= ', z_12)\n",
    "#print('Qfn1= ', Qfn)\n",
    "print('EM algorithm update: theta1=',theta1)\n",
    "\n",
    "theta_1 = 0.5116279069767442\n",
    "\n",
    "z_12=z[0]*theta_1/(2+theta_1)\n",
    "Qfn=(z_12+z[2])*np.log(theta_1)+(z[1])*np.log(1-theta_1)\n",
    "####M-step\n",
    "theta2=(z_12+z[2])/(z_12+z[2]+z[1])\n",
    "####\n",
    "print('z_12= ', z_12)\n",
    "#print('Qfn1= ', Qfn)\n",
    "print('EM algorithm update: theta2=',theta2)\n",
    "\n",
    "theta_2 = 0.546218487394958\n",
    "\n",
    "z_12=z[0]*theta_2/(2+theta_2)\n",
    "Qfn=(z_12+z[2])*np.log(theta_2)+(z[1])*np.log(1-theta_2)\n",
    "####M-step\n",
    "theta3=(z_12+z[2])/(z_12+z[2]+z[1])\n",
    "####\n",
    "print('z_12= ', z_12)\n",
    "#print('Qfn1= ', Qfn)\n",
    "print('EM algorithm update: theta3=',theta3)\n",
    "\n"
   ]
  },
  {
   "cell_type": "code",
   "execution_count": 13,
   "metadata": {},
   "outputs": [],
   "source": [
    "def EM(lf,Qf,theta0,epsilon,max_iter):\n",
    "    '''Approximate solution of MLE by EM algorithm.\n",
    "\n",
    "    Parameters\n",
    "    ----------\n",
    "    lf  : derivative of loglikilhood function\n",
    "    Qf  : surrogate function after introducing missing data\n",
    "        The expected value of the log likelihood function.\n",
    "    theta0 : number\n",
    "        Initial guess for the MLE.\n",
    "    epsilon : number\n",
    "        Stopping criteria is abs(f(x)) < epsilon.\n",
    "    max_iter : integer\n",
    "        Maximum number of iterations of Newton's method.\n",
    "\n",
    "    Returns\n",
    "    -------\n",
    "    thetan : number\n",
    "        Implement EM algorithm: compute Qfn, the expected value of the log likelihood function,\n",
    "        at the E-step and update thetan by maximising the Qfn at the M-step.\n",
    "            \n",
    "        Continue until abs(lf(thetan)) < epsilon and return thetan.    \n",
    "    '''\n",
    "    lfnval=[]\n",
    "    Qfnval=[]\n",
    "    thetan = theta0\n",
    "    for n in range(0,max_iter):\n",
    "        lfn= lf(thetan)\n",
    "        Qfn = Qf(thetan)\n",
    "        lfnval.append(lfn)\n",
    "        Qfnval.append(Qfn)\n",
    "        z_12=z[0]*thetan/(2+thetan)\n",
    "        thetan=(z_12+z[2])/(z_12+z[2]+z[1])\n",
    "        if abs(lfn) < epsilon:\n",
    "            print('Found solution after',n,'iterations.')\n",
    "            return (thetan,lfnval,Qfnval)\n",
    "        \n",
    "    print('Exceeded maximum iterations. No solution found.')\n",
    "    return None"
   ]
  },
  {
   "cell_type": "code",
   "execution_count": 14,
   "metadata": {},
   "outputs": [
    {
     "name": "stdout",
     "output_type": "stream",
     "text": [
      "Found solution after 5 iterations.\n"
     ]
    },
    {
     "data": {
      "text/plain": [
       "(0.5485837336425377,\n",
       " [93.65079365079364,\n",
       "  3.050745550745546,\n",
       "  0.19804800992919525,\n",
       "  0.012457738908910443,\n",
       "  0.0007817975046684467,\n",
       "  4.905520457043622e-05],\n",
       " [17.700000000000003,\n",
       "  1.9145484045429946,\n",
       "  0.1249911729397617,\n",
       "  0.007862455884740882,\n",
       "  0.0004934161008627314,\n",
       "  3.096022643944707e-05])"
      ]
     },
     "execution_count": 14,
     "metadata": {},
     "output_type": "execute_result"
    }
   ],
   "source": [
    "# EM Algorithm\n",
    "\n",
    "z = [10,10,10]\n",
    "lf = lambda theta: z[0]/(2+theta)-(z[1]/(1-theta))+z[2]/theta\n",
    "Qf = lambda theta: (z[0]*(1-theta)*theta-z[1]*(2+theta)*theta + z[2]*(2+theta)*(1-theta))\n",
    "EM(lf,Qf,0.1,1e-4,1000)\n"
   ]
  },
  {
   "cell_type": "code",
   "execution_count": null,
   "metadata": {},
   "outputs": [],
   "source": [
    "#def EM(x):\n",
    "#    ff = -30*x**2-20*x+20\n",
    "#    df = -60*x-20\n",
    "#    print(\"f(x)\", ff)\n",
    "#    print(\"f'(x)\", df)\n",
    "#    print(\"final \", x-(ff/df))\n",
    "#EM(0.5489067819114077)"
   ]
  },
  {
   "cell_type": "markdown",
   "metadata": {},
   "source": [
    "# Question 5 "
   ]
  },
  {
   "cell_type": "markdown",
   "metadata": {},
   "source": [
    "### Question 5a & 5b"
   ]
  },
  {
   "cell_type": "code",
   "execution_count": 15,
   "metadata": {},
   "outputs": [
    {
     "data": {
      "image/png": "[encoded data removed]",
      "text/plain": [
       "<Figure size 432x288 with 1 Axes>"
      ]
     },
     "metadata": {},
     "output_type": "display_data"
    },
    {
     "name": "stdout",
     "output_type": "stream",
     "text": [
      "The 95% percentile of Beta(1,10) is: 0.25886555089305224\n",
      "The 95% HDI for theta is: (0, 0.25886555089305224)\n"
     ]
    }
   ],
   "source": [
    "###The plot of the pdf of Beta (1,10)\n",
    "import scipy.stats as stats\n",
    "from matplotlib import pyplot as plt\n",
    "\n",
    "X=stats.beta(1, 10)\n",
    "x = np.linspace(0, 1, 1002)[1:-1]\n",
    "plt.plot(x, X.pdf(x), ls='-', c='black',\n",
    "             label=r'$\\alpha=%.1f,\\ \\beta=%.1f$' % (1, 10))\n",
    "plt.xlim(0, 1)\n",
    "plt.ylim(0, 10)\n",
    "\n",
    "plt.xlabel(r'$\\theta$')\n",
    "plt.ylabel('Density')\n",
    "plt.title('Beta Posterior')\n",
    "\n",
    "plt.legend(loc=0)\n",
    "plt.show()\n",
    "print('The 95% percentile of Beta(1,10) is:',X.ppf(0.95))\n",
    "print('The 95% HDI for theta is:',(0,X.ppf(0.95)))"
   ]
  },
  {
   "cell_type": "code",
   "execution_count": null,
   "metadata": {},
   "outputs": [],
   "source": [
    "#obj1 = math.exp(logit.params[1])\n",
    "#print(\"When temperature decreases by 1 unit, the probability of failure increases by {0:.0%}\".format(obj1))\n",
    "\n",
    "#result_line1 = \"\"\"This means that, when the temperature is zero, the fitted odds is \"\"\" \n",
    "#result_line2 = \"\"\"so the (estimated) probability of having an incident (failure=1) is \"\"\" \n",
    "#result_line3 = \"\"\"times larger than the probability of not having an incident (failure=0).\n",
    "#In other words, the probability of having an incident at temperature zero is \"\"\" \n",
    "\n",
    "#print(result_line1, params[0],result_line2, np.exp(params[0]), result_line3, np.exp(params[0])/(np.exp(params[0])+1))\n",
    "#np.exp(params[0])/(np.exp(params[0])+1)\n",
    "\n",
    "print(np.exp(params[1]))\n",
    "#print(\"These results indicate, with statistical significance at the 95% confidence level, that a 1 degree increase in temperature decreases the odds of a failure by \",obj1)"
   ]
  }
 ],
 "metadata": {
  "kernelspec": {
   "display_name": "Python 3",
   "language": "python",
   "name": "python3"
  },
  "language_info": {
   "codemirror_mode": {
    "name": "ipython",
    "version": 3
   },
   "file_extension": ".py",
   "mimetype": "text/x-python",
   "name": "python",
   "nbconvert_exporter": "python",
   "pygments_lexer": "ipython3",
   "version": "3.7.3"
  }
 },
 "nbformat": 4,
 "nbformat_minor": 4
}
